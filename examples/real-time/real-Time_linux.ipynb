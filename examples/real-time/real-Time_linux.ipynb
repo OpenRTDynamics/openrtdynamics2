{
 "cells": [
  {
   "cell_type": "code",
   "execution_count": 1,
   "id": "e3ac4a04",
   "metadata": {},
   "outputs": [],
   "source": [
    "import math\n",
    "import numpy as np\n",
    "import openrtdynamics2.lang as dy\n",
    "import openrtdynamics2.py_execute as dyexe\n",
    "import openrtdynamics2.targets as tg"
   ]
  },
  {
   "cell_type": "markdown",
   "id": "07c7c22d",
   "metadata": {},
   "source": [
    "# Code generation for Linux Real-Time Preemption\n",
    "\n",
    "c.f. https://wiki.linuxfoundation.org/realtime/start\n",
    "\n",
    "The generated code can be compiled using a c++ compiler as follows:\n",
    "\n",
    "    $ c++ main.cpp -o main\n"
   ]
  },
  {
   "cell_type": "code",
   "execution_count": 2,
   "id": "0d46628f",
   "metadata": {},
   "outputs": [
    {
     "name": "stdout",
     "output_type": "stream",
     "text": [
      "compiling system simulation (level 0)... \n",
      "input1 1.0 double\n",
      "Generated code will be written to ./ .\n",
      "writing file ./simulation_manifest.json\n",
      "writing file ./main.cpp\n"
     ]
    }
   ],
   "source": [
    "dy.clear()\n",
    "\n",
    "system = dy.enter_system()\n",
    "\n",
    "# define system inputs\n",
    "u               = dy.system_input( dy.DataTypeFloat64(1), name='input1', default_value=1.0,  value_range=[0, 25], title=\"input #1\")\n",
    "\n",
    "\n",
    "y = dy.signal()                         # introduce variable y\n",
    "x = y + u                               # x[k] = y[k] + u[k]\n",
    "y << dy.delay(x, initial_state = 2.0)   # y[k+1] = y[k] + x[k], y[0] = 2.0\n",
    "\n",
    "# define sampling time\n",
    "delta_time = dy.float64(0.1)\n",
    "\n",
    "# define output(s)\n",
    "dy.append_output(delta_time, '__ORTD_CONTROL_delta_time__')\n",
    "dy.append_output(y, 'output')\n",
    "\n",
    "# generate code\n",
    "code_gen_results = dy.generate_code(template=tg.TargetLinuxRealtime(activate_print = True), folder='./')"
   ]
  },
  {
   "cell_type": "code",
   "execution_count": null,
   "id": "b082f99d-4e2d-48dc-bf91-83ba6530d85b",
   "metadata": {},
   "outputs": [],
   "source": []
  }
 ],
 "metadata": {
  "kernelspec": {
   "display_name": "Python 3",
   "language": "python",
   "name": "python3"
  },
  "language_info": {
   "codemirror_mode": {
    "name": "ipython",
    "version": 3
   },
   "file_extension": ".py",
   "mimetype": "text/x-python",
   "name": "python",
   "nbconvert_exporter": "python",
   "pygments_lexer": "ipython3",
   "version": "3.8.5"
  }
 },
 "nbformat": 4,
 "nbformat_minor": 5
}
