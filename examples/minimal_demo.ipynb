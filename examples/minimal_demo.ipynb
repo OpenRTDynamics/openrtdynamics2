{
 "cells": [
  {
   "cell_type": "code",
   "execution_count": 1,
   "id": "hydraulic-defensive",
   "metadata": {},
   "outputs": [],
   "source": [
    "import math\n",
    "import numpy as np\n",
    "import openrtdynamics2.lang as dy\n",
    "import openrtdynamics2.py_execute as dyexe"
   ]
  },
  {
   "cell_type": "markdown",
   "id": "alike-official",
   "metadata": {},
   "source": [
    "## Fundamental concepts: delays, initial values, and feedback loops\n",
    "\n",
    "A simple model is given by\n",
    "\n",
    "    y = dy.signal()                         # introduce variable y\n",
    "    x = z + u                               # x[k] = z[k] + u[k]\n",
    "    z << dy.delay(x, initial_state = 2.0)   # z[k+1] = x[k], z[0] = 2.0\n",
    "\n",
    "Herein, a signal variable $z$ is introduced that is combined with the system input $u$. The resulting intermediate variable $x$ is then delayed and assigned to $z$ closing the feedback loop. The delay has an initial value $z[0] = 2.0$.\n",
    "\n",
    "Given $u[k] = 1.0$, for $k>=0$, the output sequence for $y$ is then $\\{ 2, 3, 4, 5, ...  \\}$.\n",
    "\n",
    "By combination of these elements (and potentially others), more sophisticated signal processing algorithms can be implemented.\n"
   ]
  },
  {
   "cell_type": "code",
   "execution_count": 2,
   "id": "legislative-auction",
   "metadata": {},
   "outputs": [
    {
     "name": "stdout",
     "output_type": "stream",
     "text": [
      "compiling system simulation (level 0)... \n",
      "determining the computation order...\n",
      "building execution paths...\n",
      "All dependencies are resolved.\n",
      "Generated code will be written to generated/delay .\n"
     ]
    }
   ],
   "source": [
    "dy.clear()\n",
    "\n",
    "system = dy.enter_system()\n",
    "\n",
    "# define system inputs\n",
    "u               = dy.system_input( dy.DataTypeFloat64(1), name='input1', default_value=1.0,  value_range=[0, 25], title=\"input #1\")\n",
    "\n",
    "\n",
    "y = dy.signal()                         # introduce variable y\n",
    "x = y + u                               # x[k] = y[k] + u[k]\n",
    "y << dy.delay(x, initial_state = 2.0)   # y[k+1] = y[k] + x[k], y[0] = 2.0\n",
    "\n",
    "\n",
    "# define output(s)\n",
    "dy.append_primay_ouput(y, 'output')\n",
    "\n",
    "# generate code for Web Assembly (wasm), requires emcc (emscripten) to build\n",
    "code_gen_results = dy.generate_code(template=dy.WasmRuntime(), folder=\"generated/delay\", build=False)"
   ]
  },
  {
   "cell_type": "code",
   "execution_count": 3,
   "id": "prime-walker",
   "metadata": {},
   "outputs": [
    {
     "name": "stdout",
     "output_type": "stream",
     "text": [
      "\n",
      "-------- list of blocks --------\n",
      "\n",
      "-----------------------------\n",
      "Blocks in simulation simulation:\n",
      "-----------------------------\n",
      "* '1' (1)\n",
      "  input signals\n",
      "    - output (double [1]) type proposal: (double [1])\n",
      "    - input1 (double [1])\n",
      "  output signals\n",
      "    - s2 (double [1]) type proposal: (double [1])\n",
      "* '2' (2)\n",
      "  input signals\n",
      "    - s2 (double [1]) type proposal: (double [1])\n",
      "  output signals\n",
      "    - output (double [1]) type proposal: (double [1])\n",
      "\n",
      "  nested subsystems\n"
     ]
    }
   ],
   "source": [
    "# list the blocks in the diagram\n",
    "dy.show_blocks()"
   ]
  },
  {
   "cell_type": "code",
   "execution_count": 4,
   "id": "historic-definition",
   "metadata": {},
   "outputs": [],
   "source": [
    "compiled_system = dyexe.CompiledCode(code_gen_results)\n",
    "testsim = dyexe.SystemInstance(compiled_system)"
   ]
  },
  {
   "cell_type": "code",
   "execution_count": 5,
   "id": "graphic-monday",
   "metadata": {},
   "outputs": [
    {
     "data": {
      "text/plain": [
       "array([ 2.,  3.,  4.,  5.,  6.,  7.,  8.,  9., 10., 11.])"
      ]
     },
     "execution_count": 5,
     "metadata": {},
     "output_type": "execute_result"
    }
   ],
   "source": [
    "sim_results = dyexe.run_batch_simulation(testsim, input_data={}, N=10,  output_keys=['output'] )\n",
    "sim_results['output']"
   ]
  }
 ],
 "metadata": {
  "kernelspec": {
   "display_name": "Python 3",
   "language": "python",
   "name": "python3"
  },
  "language_info": {
   "codemirror_mode": {
    "name": "ipython",
    "version": 3
   },
   "file_extension": ".py",
   "mimetype": "text/x-python",
   "name": "python",
   "nbconvert_exporter": "python",
   "pygments_lexer": "ipython3",
   "version": "3.7.9"
  }
 },
 "nbformat": 4,
 "nbformat_minor": 5
}
