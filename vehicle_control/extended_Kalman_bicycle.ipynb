{
 "cells": [
  {
   "cell_type": "code",
   "execution_count": 1,
   "metadata": {},
   "outputs": [],
   "source": [
    "import math\n",
    "import sympy as sp\n",
    "from sympy.utilities.lambdify import lambdify\n",
    "import numpy as np\n",
    "import matplotlib.pyplot as plt\n",
    "\n",
    "import openrtdynamics2.lang as dy\n",
    "import openrtdynamics2.py_execute as dyexe\n",
    "\n",
    "from vehicle_lib.vehicle_lib import *\n"
   ]
  },
  {
   "cell_type": "markdown",
   "metadata": {},
   "source": [
    "# Kinematic bicycle model\n",
    "\n",
    "The dynamic system equations are given by\n",
    "\n",
    "$\n",
    "\\dot X\n",
    "=\n",
    "f(x,y,\\psi)\n",
    "=\n",
    "\\begin{pmatrix} \n",
    "  \\dot x \\\\\n",
    "  \\dot y \\\\\n",
    "  \\dot \\psi\n",
    "\\end{pmatrix}\n",
    "=\n",
    "\\begin{pmatrix} \n",
    "  v \\cos( \\delta + \\psi) \\\\\n",
    "  v \\sin( \\delta + \\psi) \\\\\n",
    "  v / l_r \\sin( \\delta ), \\\\\n",
    "\\end{pmatrix}\n",
    "$\n",
    "\n",
    "with the state vector\n",
    "\n",
    "$ X = [ x, y, \\psi ]^T $.\n",
    "\n",
    "\n",
    "Herein, $x$ and $y$ denote the coordinates of the vehicle front axle in cartesian space and $\\psi$ the vehicle body orientation angle. The system inputs are the steering angle $\\delta$ and the vehicle velocity $v$. Finally, the parameter $l_r$ denotes the wheelbase, which is the length in-between front and rear axle.\n",
    "\n",
    "\n"
   ]
  },
  {
   "cell_type": "code",
   "execution_count": 2,
   "metadata": {},
   "outputs": [],
   "source": [
    "x, y, v, delta, psi, l_r, T_s, n = sp.symbols('x y v delta psi l_r T_s n')\n",
    "\n",
    "x_dot   = v * sp.cos( delta + psi )\n",
    "y_dot   = v * sp.sin( delta + psi )\n",
    "psi_dot = v / l_r * sp.sin( delta )\n",
    "\n",
    "# system function f\n",
    "f = sp.Matrix([ x_dot, y_dot, psi_dot ])\n",
    "\n",
    "# state vector\n",
    "X_bic = sp.Matrix( [ x, y, psi ])\n",
    "\n",
    "# input vector\n",
    "U_bic = sp.Matrix( [ delta, v ])"
   ]
  },
  {
   "cell_type": "code",
   "execution_count": 3,
   "metadata": {},
   "outputs": [
    {
     "data": {
      "text/latex": [
       "$\\displaystyle \\left[\\begin{matrix}v \\cos{\\left(\\delta + \\psi \\right)}\\\\v \\sin{\\left(\\delta + \\psi \\right)}\\\\\\frac{v \\sin{\\left(\\delta \\right)}}{l_{r}}\\end{matrix}\\right]$"
      ],
      "text/plain": [
       "Matrix([\n",
       "[v*cos(delta + psi)],\n",
       "[v*sin(delta + psi)],\n",
       "[  v*sin(delta)/l_r]])"
      ]
     },
     "execution_count": 3,
     "metadata": {},
     "output_type": "execute_result"
    }
   ],
   "source": [
    "f"
   ]
  },
  {
   "cell_type": "markdown",
   "metadata": {},
   "source": [
    "# Discretization of the continunous model\n",
    "\n",
    "By applying Euler-forward discretization\n",
    "\n",
    "$ {X}[k+1] = \\underbrace{ {X}[k] + T_s  \\dot{X} }_{f_{dscr}} $,\n",
    "\n",
    "the continuous system is time-discretized with the sampling time $T_s$ yielding the discrete system funtion $f_{dscr}$.\n"
   ]
  },
  {
   "cell_type": "code",
   "execution_count": 4,
   "metadata": {},
   "outputs": [],
   "source": [
    "# apply Euler forward\n",
    "f_dscr = sp.Matrix( [x,y,psi]) + T_s * f"
   ]
  },
  {
   "cell_type": "code",
   "execution_count": 5,
   "metadata": {},
   "outputs": [
    {
     "data": {
      "text/latex": [
       "$\\displaystyle \\left[\\begin{matrix}T_{s} v \\cos{\\left(\\delta + \\psi \\right)} + x\\\\T_{s} v \\sin{\\left(\\delta + \\psi \\right)} + y\\\\\\frac{T_{s} v \\sin{\\left(\\delta \\right)}}{l_{r}} + \\psi\\end{matrix}\\right]$"
      ],
      "text/plain": [
       "Matrix([\n",
       "[T_s*v*cos(delta + psi) + x],\n",
       "[T_s*v*sin(delta + psi) + y],\n",
       "[T_s*v*sin(delta)/l_r + psi]])"
      ]
     },
     "execution_count": 5,
     "metadata": {},
     "output_type": "execute_result"
    }
   ],
   "source": [
    "f_dscr"
   ]
  },
  {
   "cell_type": "markdown",
   "metadata": {},
   "source": [
    "# Analytically compute the Jacobian matrices\n",
    "\n",
    "A linearization of the non-linear system function around a dynamic set point is calculated by deriving the jacobian matrices w.r.t. the state vector $X$ and each system input $\\delta$ and $v$:\n",
    "\n",
    "continuous case \n",
    "$\n",
    "  A = \\frac{ \\partial f }{ \\partial X},\n",
    "  \\qquad\n",
    "  B = \\frac{ \\partial f }{ \\partial [ \\delta, v ]^T },  \n",
    "$\n",
    "\n",
    "discrete-time case\n",
    "$\n",
    "  A_{dscr} = \\frac{ \\partial f_{dscr} }{ \\partial X},\n",
    "  \\qquad\n",
    "  B_{dscr} = \\frac{ \\partial f_{dscr} }{ \\partial [ \\delta, v ]^T },  \n",
    "$"
   ]
  },
  {
   "cell_type": "code",
   "execution_count": 6,
   "metadata": {},
   "outputs": [],
   "source": [
    "# continuous system matrices\n",
    "A = f.jacobian(X_bic)\n",
    "B = f.jacobian(U_bic)\n",
    "\n",
    "# discrete system matrices\n",
    "A_dscr = f_dscr.jacobian(X_bic)\n",
    "B_dscr = f_dscr.jacobian(U_bic)"
   ]
  },
  {
   "cell_type": "code",
   "execution_count": 7,
   "metadata": {},
   "outputs": [
    {
     "data": {
      "text/latex": [
       "$\\displaystyle \\left[\\begin{matrix}1 & 0 & - T_{s} v \\sin{\\left(\\delta + \\psi \\right)}\\\\0 & 1 & T_{s} v \\cos{\\left(\\delta + \\psi \\right)}\\\\0 & 0 & 1\\end{matrix}\\right]$"
      ],
      "text/plain": [
       "Matrix([\n",
       "[1, 0, -T_s*v*sin(delta + psi)],\n",
       "[0, 1,  T_s*v*cos(delta + psi)],\n",
       "[0, 0,                       1]])"
      ]
     },
     "execution_count": 7,
     "metadata": {},
     "output_type": "execute_result"
    }
   ],
   "source": [
    "A_dscr"
   ]
  },
  {
   "cell_type": "code",
   "execution_count": 8,
   "metadata": {},
   "outputs": [
    {
     "data": {
      "text/latex": [
       "$\\displaystyle \\left[\\begin{matrix}- T_{s} v \\sin{\\left(\\delta + \\psi \\right)} & T_{s} \\cos{\\left(\\delta + \\psi \\right)}\\\\T_{s} v \\cos{\\left(\\delta + \\psi \\right)} & T_{s} \\sin{\\left(\\delta + \\psi \\right)}\\\\\\frac{T_{s} v \\cos{\\left(\\delta \\right)}}{l_{r}} & \\frac{T_{s} \\sin{\\left(\\delta \\right)}}{l_{r}}\\end{matrix}\\right]$"
      ],
      "text/plain": [
       "Matrix([\n",
       "[-T_s*v*sin(delta + psi), T_s*cos(delta + psi)],\n",
       "[ T_s*v*cos(delta + psi), T_s*sin(delta + psi)],\n",
       "[   T_s*v*cos(delta)/l_r,   T_s*sin(delta)/l_r]])"
      ]
     },
     "execution_count": 8,
     "metadata": {},
     "output_type": "execute_result"
    }
   ],
   "source": [
    "B_dscr"
   ]
  },
  {
   "cell_type": "markdown",
   "metadata": {},
   "source": [
    "# Create functions that generate the matrices A, B, and the system function f\n",
    "\n",
    "Create python functions with which the symbolically dervied matrices and system function can be evaluated. "
   ]
  },
  {
   "cell_type": "code",
   "execution_count": 9,
   "metadata": {},
   "outputs": [],
   "source": [
    "variables = (T_s,l_r, x,y,psi,v,delta)\n",
    "\n",
    "array2mat = [{'ImmutableDenseMatrix': np.matrix}, 'numpy']\n",
    "\n",
    "A_dscr_fn = lambdify( variables, A_dscr, modules=array2mat)\n",
    "B_dscr_fn = lambdify( variables, B_dscr, modules=array2mat)\n",
    "f_dscr_fn = lambdify( variables, f_dscr, modules=array2mat)\n"
   ]
  },
  {
   "cell_type": "code",
   "execution_count": 10,
   "metadata": {},
   "outputs": [
    {
     "data": {
      "text/plain": [
       "matrix([[ 1.        ,  0.        , -0.04794255],\n",
       "        [ 0.        ,  1.        ,  0.08775826],\n",
       "        [ 0.        ,  0.        ,  1.        ]])"
      ]
     },
     "execution_count": 10,
     "metadata": {},
     "output_type": "execute_result"
    }
   ],
   "source": [
    "A_dscr_fn(0.01, 3.0, 0.1,0.2,0.4,10,0.1)"
   ]
  },
  {
   "cell_type": "code",
   "execution_count": 11,
   "metadata": {},
   "outputs": [
    {
     "data": {
      "text/plain": [
       "matrix([[-0.04794255,  0.00877583],\n",
       "        [ 0.08775826,  0.00479426],\n",
       "        [ 0.03316681,  0.00033278]])"
      ]
     },
     "execution_count": 11,
     "metadata": {},
     "output_type": "execute_result"
    }
   ],
   "source": [
    "B_dscr_fn(0.01, 3.0, 0.1,0.2,0.4,10,0.1)"
   ]
  },
  {
   "cell_type": "code",
   "execution_count": 12,
   "metadata": {},
   "outputs": [
    {
     "data": {
      "text/plain": [
       "matrix([[0.18775826],\n",
       "        [0.24794255],\n",
       "        [0.40332778]])"
      ]
     },
     "execution_count": 12,
     "metadata": {},
     "output_type": "execute_result"
    }
   ],
   "source": [
    "f_dscr_fn(0.01, 3.0, 0.1,0.2,0.4,10,0.1)"
   ]
  },
  {
   "cell_type": "code",
   "execution_count": null,
   "metadata": {},
   "outputs": [],
   "source": []
  },
  {
   "cell_type": "markdown",
   "metadata": {},
   "source": [
    "# Run a simulation to generate test data\n",
    "\n",
    "Set-up a simulation of a vehicle (bicycle model). The steering rate $\\dot\\delta$ is the input and integrated to obtain the steering angle $\\delta$. A picewise constant (step signal) is applied to the input $\\dot\\delta$. The velocity $v$ is set to a constant value."
   ]
  },
  {
   "cell_type": "code",
   "execution_count": 13,
   "metadata": {},
   "outputs": [
    {
     "name": "stdout",
     "output_type": "stream",
     "text": [
      "compiling system simulation (level 0)... \n",
      "Generated code will be written to generated/trajectory_generation .\n",
      "Running compiler: emcc --bind -s MODULARIZE=1 -s EXPORT_NAME=\"ORTD_simulator\" generated/trajectory_generation/main.cpp -O2 -s -o generated/trajectory_generation/main.js\n",
      "Compilation result:  0\n"
     ]
    }
   ],
   "source": [
    "system = dy.enter_system()\n",
    "\n",
    "velocity               = dy.system_input( dy.DataTypeFloat64(1), name='velocity_',             default_value=5.0,    value_range=[0, 25],     title=\"vehicle velocity [m/s]\")\n",
    "\n",
    "s1                     = dy.system_input( dy.DataTypeFloat64(1), name='s1',                    default_value=0.0,    value_range=[-0.05, 0.05], title=\"steering rate 1 [rad/s]\")\n",
    "s2                     = dy.system_input( dy.DataTypeFloat64(1), name='s2',                    default_value=0.0,    value_range=[-0.05, 0.05], title=\"steering rate 2 [rad/s]\")\n",
    "s3                     = dy.system_input( dy.DataTypeFloat64(1), name='s3',                    default_value=0.0,    value_range=[-0.05, 0.05], title=\"steering rate 3 [rad/s]\")\n",
    "s4                     = dy.system_input( dy.DataTypeFloat64(1), name='s4',                    default_value=0.0,    value_range=[-0.05, 0.05], title=\"steering rate 4 [rad/s]\")\n",
    "s5                     = dy.system_input( dy.DataTypeFloat64(1), name='s5',                    default_value=0.0,    value_range=[-0.05, 0.05], title=\"steering rate 5 [rad/s]\")\n",
    "\n",
    "initial_steering       = dy.system_input( dy.DataTypeFloat64(1), name='initial_steering',      default_value=-0.0,   value_range=[-40, 40],   title=\"initial steering angle [degrees]\")       * dy.float64(math.pi / 180.0)\n",
    "initial_orientation    = dy.system_input( dy.DataTypeFloat64(1), name='initial_orientation',   default_value=0.0,    value_range=[-360, 360], title=\"initial orientation angle [degrees]\")    * dy.float64(math.pi / 180.0)\n",
    "\n",
    "# parameters\n",
    "wheelbase = 3.0\n",
    "\n",
    "# sampling time\n",
    "Ts = 0.01\n",
    "\n",
    "\n",
    "steering_rate = dy.float64(0)\n",
    "\n",
    "cnt = dy.counter()\n",
    "\n",
    "steering_rate = dy.conditional_overwrite(steering_rate, condition= cnt >= dy.int32(200), new_value=s1 )\n",
    "steering_rate = dy.conditional_overwrite(steering_rate, condition= cnt >= dy.int32(400), new_value=s2 )\n",
    "steering_rate = dy.conditional_overwrite(steering_rate, condition= cnt >= dy.int32(600), new_value=s3 )\n",
    "steering_rate = dy.conditional_overwrite(steering_rate, condition= cnt >= dy.int32(800), new_value=s4 )\n",
    "steering_rate = dy.conditional_overwrite(steering_rate, condition= cnt >= dy.int32(1000), new_value=s5 )\n",
    "\n",
    "\n",
    "\n",
    "\n",
    "# linearly increasing steering angle\n",
    "delta = dy.euler_integrator( steering_rate, Ts, initial_state=initial_steering )\n",
    "delta = dy.saturate(u=delta, lower_limit=-math.pi/2.0, upper_limit=math.pi/2.0)\n",
    "\n",
    "# the model of the vehicle\n",
    "x, y, psi, x_dot, y_dot, psi_dot = discrete_time_bicycle_model(delta, velocity, Ts, wheelbase, psi0=initial_orientation)\n",
    "\n",
    "\n",
    "#\n",
    "# outputs: these are available for visualization in the html set-up\n",
    "#\n",
    "\n",
    "dy.append_output(x, 'x')\n",
    "dy.append_output(y, 'y')\n",
    "dy.append_output(psi, 'psi')\n",
    "dy.append_output(psi_dot, 'psi_dot')\n",
    "dy.append_output(delta, 'steering')\n",
    "dy.append_output(velocity*dy.float64(1.0), 'velocity')\n",
    "\n",
    "\n",
    "# generate code for Web Assembly (wasm), requires emcc (emscripten) to build\n",
    "code_gen_results = dy.generate_code(template=dy.TargetWasm(), folder=\"generated/trajectory_generation\", build=True)\n",
    "\n",
    "#\n",
    "dy.clear()\n"
   ]
  },
  {
   "cell_type": "code",
   "execution_count": 14,
   "metadata": {},
   "outputs": [],
   "source": [
    "compiled_system = dyexe.CompiledCode(code_gen_results)"
   ]
  },
  {
   "cell_type": "markdown",
   "metadata": {},
   "source": [
    "\n",
    "Run the simulation given parameters to define the steering rates\n"
   ]
  },
  {
   "cell_type": "code",
   "execution_count": 15,
   "metadata": {},
   "outputs": [],
   "source": [
    "testsim = dyexe.SystemInstance(compiled_system)\n",
    "\n",
    "N=1000\n",
    "input_data = {'initial_steering': 0.0, 's1' : 0.1, 's2' : -0.15, 's3' : 0.2 }\n",
    "\n",
    "# sim_results = run_batch_simulation(testsim, input_data, N )\n",
    "sim_results = dyexe.run_batch_simulation(testsim, input_data, N,  output_keys=['x', 'y', 'psi', 'psi_dot', 'steering', 'velocity'] )"
   ]
  },
  {
   "cell_type": "markdown",
   "metadata": {},
   "source": [
    "# Add noise to the model (sensing noise)\n",
    "\n",
    "Simulate measurement noise which is, e.g., introduced by GPS."
   ]
  },
  {
   "cell_type": "code",
   "execution_count": 16,
   "metadata": {},
   "outputs": [
    {
     "data": {
      "image/png": "[encoded data removed]",
      "text/plain": [
       "<Figure size 432x288 with 1 Axes>"
      ]
     },
     "metadata": {
      "needs_background": "light"
     },
     "output_type": "display_data"
    },
    {
     "data": {
      "image/png": "[encoded data removed]",
      "text/plain": [
       "<Figure size 432x288 with 1 Axes>"
      ]
     },
     "metadata": {
      "needs_background": "light"
     },
     "output_type": "display_data"
    }
   ],
   "source": [
    "# X/Y positioning noise (normal distribution)\n",
    "eta_x = np.random.normal(0, 0.1, N) \n",
    "eta_y = np.random.normal(0, 0.1, N) \n",
    "\n",
    "x_meas = eta_x + sim_results['x']\n",
    "y_meas = eta_y + sim_results['y']\n",
    "psi_meas = sim_results['psi']\n",
    "psi_dot_meas = sim_results['psi_dot']\n",
    "v_meas = sim_results['velocity']\n",
    "\n",
    "plt.figure()\n",
    "plt.plot(x_meas, y_meas, '+')\n",
    "plt.plot(sim_results['x'], sim_results['y'])\n",
    "plt.show()\n",
    "\n",
    "plt.figure()\n",
    "plt.plot(psi_dot_meas)\n",
    "plt.show()"
   ]
  },
  {
   "cell_type": "markdown",
   "metadata": {},
   "source": [
    "# Extended Kalman filter\n",
    "\n",
    "The extended Kalman filter is applied to the linearized model descibed by the matrices $A_{dscr}$ and $B_{dscr}$ and given the system function $f_{dscr}$. The simulated data serves as measured data and is the input to the filter."
   ]
  },
  {
   "cell_type": "code",
   "execution_count": 17,
   "metadata": {},
   "outputs": [
    {
     "data": {
      "text/latex": [
       "$\\displaystyle \\left[\\begin{matrix}T_{s} v \\cos{\\left(\\delta + \\psi \\right)} + x\\\\T_{s} v \\sin{\\left(\\delta + \\psi \\right)} + y\\\\\\frac{T_{s} v \\sin{\\left(\\delta \\right)}}{l_{r}} + \\psi\\end{matrix}\\right]$"
      ],
      "text/plain": [
       "Matrix([\n",
       "[T_s*v*cos(delta + psi) + x],\n",
       "[T_s*v*sin(delta + psi) + y],\n",
       "[T_s*v*sin(delta)/l_r + psi]])"
      ]
     },
     "execution_count": 17,
     "metadata": {},
     "output_type": "execute_result"
    }
   ],
   "source": [
    "f_dscr"
   ]
  },
  {
   "cell_type": "code",
   "execution_count": 18,
   "metadata": {},
   "outputs": [
    {
     "data": {
      "text/latex": [
       "$\\displaystyle \\left[\\begin{matrix}1 & 0 & - T_{s} v \\sin{\\left(\\delta + \\psi \\right)}\\\\0 & 1 & T_{s} v \\cos{\\left(\\delta + \\psi \\right)}\\\\0 & 0 & 1\\end{matrix}\\right]$"
      ],
      "text/plain": [
       "Matrix([\n",
       "[1, 0, -T_s*v*sin(delta + psi)],\n",
       "[0, 1,  T_s*v*cos(delta + psi)],\n",
       "[0, 0,                       1]])"
      ]
     },
     "execution_count": 18,
     "metadata": {},
     "output_type": "execute_result"
    }
   ],
   "source": [
    "A_dscr"
   ]
  },
  {
   "cell_type": "code",
   "execution_count": 19,
   "metadata": {},
   "outputs": [
    {
     "data": {
      "text/latex": [
       "$\\displaystyle \\left[\\begin{matrix}- T_{s} v \\sin{\\left(\\delta + \\psi \\right)} & T_{s} \\cos{\\left(\\delta + \\psi \\right)}\\\\T_{s} v \\cos{\\left(\\delta + \\psi \\right)} & T_{s} \\sin{\\left(\\delta + \\psi \\right)}\\\\\\frac{T_{s} v \\cos{\\left(\\delta \\right)}}{l_{r}} & \\frac{T_{s} \\sin{\\left(\\delta \\right)}}{l_{r}}\\end{matrix}\\right]$"
      ],
      "text/plain": [
       "Matrix([\n",
       "[-T_s*v*sin(delta + psi), T_s*cos(delta + psi)],\n",
       "[ T_s*v*cos(delta + psi), T_s*sin(delta + psi)],\n",
       "[   T_s*v*cos(delta)/l_r,   T_s*sin(delta)/l_r]])"
      ]
     },
     "execution_count": 19,
     "metadata": {},
     "output_type": "execute_result"
    }
   ],
   "source": [
    "B_dscr"
   ]
  },
  {
   "cell_type": "markdown",
   "metadata": {},
   "source": [
    "The implemented filter in form of a loop"
   ]
  },
  {
   "cell_type": "code",
   "execution_count": 20,
   "metadata": {},
   "outputs": [
    {
     "data": {
      "image/png": "[encoded data removed]",
      "text/plain": [
       "<Figure size 432x288 with 1 Axes>"
      ]
     },
     "metadata": {
      "needs_background": "light"
     },
     "output_type": "display_data"
    },
    {
     "data": {
      "image/png": "[encoded data removed]",
      "text/plain": [
       "<Figure size 432x288 with 1 Axes>"
      ]
     },
     "metadata": {
      "needs_background": "light"
     },
     "output_type": "display_data"
    }
   ],
   "source": [
    "l_r = wheelbase\n",
    "\n",
    "# allocate space to store the filter results\n",
    "results = {'delta' : np.zeros(N), 'x' : np.zeros(N), 'y' : np.zeros(N), 'psi' : np.zeros(N) }\n",
    "\n",
    "# the guess/estimate of the initial states\n",
    "X = np.matrix([ [0.5], [0.5], [0.1] ])\n",
    "\n",
    "P = np.matrix([  [0.1, 0,   0     ], \n",
    "                 [0,   0.1, 0     ],\n",
    "                 [0,   0,   0.1   ]  ])\n",
    "\n",
    "# covariance of the noise w addtitive to the states\n",
    "Q = 0.00001*np.matrix([  [1, 0, 0 ], \n",
    "                         [0, 1, 0 ],\n",
    "                         [0, 0, 1 ]  ])\n",
    " \n",
    "# covariance of the noise v in the measured system output signal\n",
    "R = np.matrix([  [0.1, 0   ], \n",
    "                 [0  , 0.1 ]  ])\n",
    "\n",
    "\n",
    "for i in range(0,N):\n",
    "    \n",
    "    # measured input signals \n",
    "    v       = v_meas[i]\n",
    "    x       = x_meas[i]\n",
    "    y       = y_meas[i]\n",
    "    psi_dot = psi_dot_meas[i]\n",
    "    \n",
    "    \n",
    "    # compute steering angle by the inverse for the vehicle orientation change \n",
    "    delta = math.asin( psi_dot * l_r / v )\n",
    "        \n",
    "    # system output vector (x, y)\n",
    "    z = np.matrix([ [x], [y] ])\n",
    "    \n",
    "    # pridiction step using the non-linear model (f_dscr) \n",
    "    # x(k-1|k-1) --> x(k|k-1)\n",
    "    \n",
    "    X[0] = X[0] + Ts * ( v * math.cos( X[2] + delta ) )\n",
    "    X[1] = X[1] + Ts * ( v * math.sin( X[2] + delta ) )\n",
    "    X[2] = X[2] + Ts * ( v / l_r * math.sin(delta) )\n",
    "    \n",
    "    # optionally use the auto-generated python function for evaluation\n",
    "    # X = f_dscr_fn( Ts, l_r, float(X[0]), float(X[1]), float(X[2]), v, delta )\n",
    "\n",
    "    # evaluate jacobi matrices A_dscr and B_dscr\n",
    "    F = np.matrix([  [1, 0, -Ts*v*math.sin(delta+X[2])  ], \n",
    "                     [0, 1,  Ts*v*math.cos(delta+X[2])  ],\n",
    "                     [0, 0, 1                           ]   ])\n",
    "    \n",
    "    # optionally use the auto-generated python function for evaluation\n",
    "    # F = A_dscr_fn( Ts, l_r, float(X[0]), float(X[1]), float(X[2]), v, delta )\n",
    "    \n",
    "    \n",
    "    B = np.matrix([  [-Ts*v*math.sin(delta+X[2]), Ts*math.cos(delta+X[2])      ], \n",
    "                     [ Ts*v*math.cos(delta+X[2]), Ts*math.sin(delta+X[2])      ],\n",
    "                     [Ts*v/l_r * math.cos(delta), Ts/l_r * math.sin(delta)     ]   ])\n",
    "    \n",
    "    # optionally use the auto-generated python function for evaluation\n",
    "    # B = B_dscr_fn( Ts, l_r, float(X[0]), float(X[1]), float(X[2]), v, delta )\n",
    "    \n",
    "    # the system output matrix: returns X and Y when multiplied with the state vector X\n",
    "    # which are compared to the measurements\n",
    "    H = np.matrix([  [1,0,0], \n",
    "                     [0,1,0] ])\n",
    "    \n",
    "    # prdicted state covariance P(k|k-1)\n",
    "    P = F*P*F.transpose() + Q\n",
    "    \n",
    "    # estimation output residual vector\n",
    "    e = z - H*X\n",
    "        \n",
    "    # Kalman gain\n",
    "    S = H*P*H.transpose() + R\n",
    "    K = P*H.transpose() * np.linalg.inv( S )\n",
    "    \n",
    "    # post priori state X(k|k)\n",
    "    X = X + K*e\n",
    "    \n",
    "    # post priori covariance\n",
    "    P = (np.eye(3) - K*H) * P\n",
    "\n",
    "    \n",
    "    \n",
    "    # store results\n",
    "    results['delta'][i] = delta\n",
    "    results['x'][i] = X[0]\n",
    "    results['y'][i] = X[1]\n",
    "    results['psi'][i] = X[2]\n",
    "    \n",
    "\n",
    "# show results\n",
    "plt.figure()\n",
    "#plt.plot(x_meas, y_meas, '+')\n",
    "plt.plot(sim_results['x'], sim_results['y'], 'g')\n",
    "plt.plot(results['x'], results['y'])\n",
    "plt.show()\n",
    "\n",
    "plt.figure()\n",
    "plt.plot(results['psi'])\n",
    "plt.plot(sim_results['psi'], 'g')\n",
    "plt.show()"
   ]
  }
 ],
 "metadata": {
  "@webio": {
   "lastCommId": null,
   "lastKernelId": null
  },
  "kernelspec": {
   "display_name": "Python 3",
   "language": "python",
   "name": "python3"
  },
  "language_info": {
   "codemirror_mode": {
    "name": "ipython",
    "version": 3
   },
   "file_extension": ".py",
   "mimetype": "text/x-python",
   "name": "python",
   "nbconvert_exporter": "python",
   "pygments_lexer": "ipython3",
   "version": "3.8.5"
  }
 },
 "nbformat": 4,
 "nbformat_minor": 4
}
