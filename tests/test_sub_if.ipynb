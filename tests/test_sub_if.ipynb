{
 "cells": [
  {
   "cell_type": "code",
   "execution_count": 1,
   "id": "marked-cricket",
   "metadata": {},
   "outputs": [],
   "source": [
    "import math\n",
    "import numpy as np\n",
    "import openrtdynamics2.lang as dy\n",
    "import openrtdynamics2.py_execute as dyexe\n",
    "\n",
    "from helper_fn import * "
   ]
  },
  {
   "cell_type": "code",
   "execution_count": null,
   "id": "powerful-blade",
   "metadata": {},
   "outputs": [],
   "source": []
  },
  {
   "cell_type": "code",
   "execution_count": 2,
   "id": "intensive-while",
   "metadata": {},
   "outputs": [
    {
     "name": "stdout",
     "output_type": "stream",
     "text": [
      "compiling system Subsystem1000 (level 1)... \n",
      "determining the computation order...\n",
      "building execution paths...\n",
      "All dependencies are resolved.\n",
      "compiling system simulation (level 0)... \n",
      "determining the computation order...\n",
      "building execution paths...\n",
      "All dependencies are resolved.\n",
      "Generated code will be written to generated/sub_if .\n"
     ]
    }
   ],
   "source": [
    "system = dy.enter_system()\n",
    "\n",
    "# the diagram\n",
    "activation_sample = dy.system_input( dy.DataTypeFloat64(1), name='activation_sample', default_value=5 ,  value_range=[0, 100], title=\"input #1\")\n",
    "\n",
    "activate_subsystem = dy.logic_and( dy.counter() >= activation_sample, (dy.counter()-15) < activation_sample )\n",
    "\n",
    "with dy.sub_if(activate_subsystem, prevent_output_computation=False ) as system:\n",
    "\n",
    "    cnt = dy.counter()\n",
    "    \n",
    "    system.set_outputs([ cnt ])\n",
    "\n",
    "cnt = system.outputs[0]\n",
    "\n",
    "# define output(s)\n",
    "dy.append_primay_ouput(cnt, 'cnt')\n",
    "dy.append_primay_ouput(activate_subsystem, 'activate_subsystem')\n",
    "\n",
    "# generate code for Web Assembly (wasm), requires emcc (emscripten) to build\n",
    "code_gen_results = dy.generate_code(template=dy.WasmRuntime(), folder=\"generated/sub_if\", build=False)\n",
    "\n",
    "#\n",
    "dy.clear()"
   ]
  },
  {
   "cell_type": "code",
   "execution_count": 3,
   "id": "northern-hobby",
   "metadata": {},
   "outputs": [],
   "source": [
    "compiled_system = dyexe.CompiledCode(code_gen_results)\n",
    "sim_results = dyexe.run_batch_simulation(dyexe.SystemInstance(compiled_system), input_data={}, N=30)"
   ]
  },
  {
   "cell_type": "code",
   "execution_count": null,
   "id": "sunset-material",
   "metadata": {},
   "outputs": [],
   "source": []
  },
  {
   "cell_type": "code",
   "execution_count": 4,
   "id": "numerous-member",
   "metadata": {},
   "outputs": [
    {
     "data": {
      "text/plain": [
       "array([ 0.,  0.,  0.,  0.,  0.,  0.,  1.,  2.,  3.,  4.,  5.,  6.,  7.,\n",
       "        8.,  9., 10., 11., 12., 13., 14., 15., 15., 15., 15., 15., 15.,\n",
       "       15., 15., 15., 15.])"
      ]
     },
     "execution_count": 4,
     "metadata": {},
     "output_type": "execute_result"
    }
   ],
   "source": [
    "sim_results['cnt']"
   ]
  },
  {
   "cell_type": "code",
   "execution_count": 5,
   "id": "artificial-brooklyn",
   "metadata": {},
   "outputs": [],
   "source": [
    "assert_equal( sim_results['cnt'] , [0.,  0.,  0.,  0.,  0.,  0.,  1.,  2.,  3.,  4.,  5.,  6.,  7.,\n",
    "        8.,  9., 10., 11., 12., 13., 14., 15., 15., 15., 15., 15., 15.,\n",
    "       15., 15., 15., 15.] )"
   ]
  },
  {
   "cell_type": "code",
   "execution_count": 6,
   "id": "living-spectrum",
   "metadata": {},
   "outputs": [
    {
     "data": {
      "text/plain": [
       "array([0., 0., 0., 0., 0., 1., 1., 1., 1., 1., 1., 1., 1., 1., 1., 1., 1.,\n",
       "       1., 1., 1., 0., 0., 0., 0., 0., 0., 0., 0., 0., 0.])"
      ]
     },
     "execution_count": 6,
     "metadata": {},
     "output_type": "execute_result"
    }
   ],
   "source": [
    "sim_results['activate_subsystem']"
   ]
  },
  {
   "cell_type": "code",
   "execution_count": null,
   "id": "going-bargain",
   "metadata": {},
   "outputs": [],
   "source": []
  },
  {
   "cell_type": "code",
   "execution_count": null,
   "id": "precious-shirt",
   "metadata": {},
   "outputs": [],
   "source": []
  },
  {
   "cell_type": "code",
   "execution_count": null,
   "id": "polished-southwest",
   "metadata": {},
   "outputs": [],
   "source": []
  },
  {
   "cell_type": "code",
   "execution_count": 7,
   "id": "flying-american",
   "metadata": {},
   "outputs": [
    {
     "name": "stdout",
     "output_type": "stream",
     "text": [
      "compiling system Subsystem1000 (level 1)... \n",
      "determining the computation order...\n",
      "building execution paths...\n",
      "All dependencies are resolved.\n",
      "compiling system simulation (level 0)... \n",
      "determining the computation order...\n",
      "building execution paths...\n",
      "All dependencies are resolved.\n",
      "Generated code will be written to generated/sub_if .\n"
     ]
    }
   ],
   "source": [
    "system = dy.enter_system()\n",
    "\n",
    "# the diagram\n",
    "activation_sample = dy.system_input( dy.DataTypeFloat64(1), name='activation_sample', default_value=5 ,  value_range=[0, 100], title=\"input #1\")\n",
    "\n",
    "activate_subsystem = dy.logic_and( dy.counter() >= activation_sample, (dy.counter()-15) < activation_sample )\n",
    "\n",
    "with dy.sub_if(activate_subsystem, prevent_output_computation=False ) as system:\n",
    "\n",
    "    cnt1 = dy.sum( 1 )\n",
    "    cnt2 = dy.sum( 1, no_delay=True )\n",
    "    cnt3 = dy.sum( 1, no_delay=True, initial_state=-1 )\n",
    "    cnt4 = dy.euler_integrator( dy.float64(0.1), Ts=1.0, initial_state=dy.float64(-5) )\n",
    "    \n",
    "    system.set_outputs([ cnt1, cnt2, cnt3, cnt4 ])\n",
    "\n",
    "# define output(s)\n",
    "dy.append_primay_ouput(system.outputs[0], 'cnt1')\n",
    "dy.append_primay_ouput(system.outputs[1], 'cnt2')\n",
    "dy.append_primay_ouput(system.outputs[2], 'cnt3')\n",
    "dy.append_primay_ouput(system.outputs[3], 'cnt4')\n",
    "dy.append_primay_ouput(activate_subsystem, 'activate_subsystem')\n",
    "\n",
    "# generate code for Web Assembly (wasm), requires emcc (emscripten) to build\n",
    "code_gen_results = dy.generate_code(template=dy.WasmRuntime(), folder=\"generated/sub_if\", build=False)\n",
    "\n",
    "#\n",
    "dy.clear()"
   ]
  },
  {
   "cell_type": "code",
   "execution_count": 8,
   "id": "theoretical-sharing",
   "metadata": {},
   "outputs": [],
   "source": [
    "compiled_system = dyexe.CompiledCode(code_gen_results)\n",
    "sim_results = dyexe.run_batch_simulation(dyexe.SystemInstance(compiled_system), input_data={}, N=30)"
   ]
  },
  {
   "cell_type": "code",
   "execution_count": 9,
   "id": "wrong-basics",
   "metadata": {},
   "outputs": [
    {
     "data": {
      "text/plain": [
       "array([ 0.,  0.,  0.,  0.,  0.,  0.,  1.,  2.,  3.,  4.,  5.,  6.,  7.,\n",
       "        8.,  9., 10., 11., 12., 13., 14., 15., 15., 15., 15., 15., 15.,\n",
       "       15., 15., 15., 15.])"
      ]
     },
     "execution_count": 9,
     "metadata": {},
     "output_type": "execute_result"
    }
   ],
   "source": [
    "sim_results['cnt1']"
   ]
  },
  {
   "cell_type": "code",
   "execution_count": 10,
   "id": "blessed-watson",
   "metadata": {},
   "outputs": [
    {
     "data": {
      "text/plain": [
       "array([ 1.,  1.,  1.,  1.,  1.,  1.,  2.,  3.,  4.,  5.,  6.,  7.,  8.,\n",
       "        9., 10., 11., 12., 13., 14., 15., 16., 16., 16., 16., 16., 16.,\n",
       "       16., 16., 16., 16.])"
      ]
     },
     "execution_count": 10,
     "metadata": {},
     "output_type": "execute_result"
    }
   ],
   "source": [
    "sim_results['cnt2']"
   ]
  },
  {
   "cell_type": "code",
   "execution_count": 11,
   "id": "abandoned-matthew",
   "metadata": {},
   "outputs": [
    {
     "data": {
      "text/plain": [
       "array([ 0.,  0.,  0.,  0.,  0.,  0.,  1.,  2.,  3.,  4.,  5.,  6.,  7.,\n",
       "        8.,  9., 10., 11., 12., 13., 14., 15., 15., 15., 15., 15., 15.,\n",
       "       15., 15., 15., 15.])"
      ]
     },
     "execution_count": 11,
     "metadata": {},
     "output_type": "execute_result"
    }
   ],
   "source": [
    "sim_results['cnt3']"
   ]
  },
  {
   "cell_type": "code",
   "execution_count": 12,
   "id": "looking-smith",
   "metadata": {},
   "outputs": [
    {
     "data": {
      "text/plain": [
       "array([-5. , -5. , -5. , -5. , -5. , -5. , -4.9, -4.8, -4.7, -4.6, -4.5,\n",
       "       -4.4, -4.3, -4.2, -4.1, -4. , -3.9, -3.8, -3.7, -3.6, -3.5, -3.5,\n",
       "       -3.5, -3.5, -3.5, -3.5, -3.5, -3.5, -3.5, -3.5])"
      ]
     },
     "execution_count": 12,
     "metadata": {},
     "output_type": "execute_result"
    }
   ],
   "source": [
    "sim_results['cnt4']"
   ]
  },
  {
   "cell_type": "code",
   "execution_count": 13,
   "id": "successful-series",
   "metadata": {},
   "outputs": [
    {
     "data": {
      "text/plain": [
       "array([0., 0., 0., 0., 0., 1., 1., 1., 1., 1., 1., 1., 1., 1., 1., 1., 1.,\n",
       "       1., 1., 1., 0., 0., 0., 0., 0., 0., 0., 0., 0., 0.])"
      ]
     },
     "execution_count": 13,
     "metadata": {},
     "output_type": "execute_result"
    }
   ],
   "source": [
    "sim_results['activate_subsystem']"
   ]
  },
  {
   "cell_type": "code",
   "execution_count": null,
   "id": "understood-punch",
   "metadata": {},
   "outputs": [],
   "source": []
  },
  {
   "cell_type": "code",
   "execution_count": 14,
   "id": "bored-swimming",
   "metadata": {},
   "outputs": [],
   "source": [
    "assert_equal( sim_results['cnt1'] , [ 0.,  0.,  0.,  0.,  0.,  0.,  1.,  2.,  3.,  4.,  5.,  6.,  7.,\n",
    "        8.,  9., 10., 11., 12., 13., 14., 15., 15., 15., 15., 15., 15.,\n",
    "       15., 15., 15., 15.] )"
   ]
  },
  {
   "cell_type": "code",
   "execution_count": 15,
   "id": "indian-technician",
   "metadata": {},
   "outputs": [],
   "source": [
    "assert_equal( sim_results['cnt2'] , [ 1.,  1.,  1.,  1.,  1.,  1.,  2.,  3.,  4.,  5.,  6.,  7.,  8.,\n",
    "        9., 10., 11., 12., 13., 14., 15., 16., 16., 16., 16., 16., 16.,\n",
    "       16., 16., 16., 16.] )"
   ]
  },
  {
   "cell_type": "code",
   "execution_count": 16,
   "id": "distinct-block",
   "metadata": {},
   "outputs": [],
   "source": [
    "assert_equal( sim_results['cnt3'] , [ 0.,  0.,  0.,  0.,  0.,  0.,  1.,  2.,  3.,  4.,  5.,  6.,  7.,\n",
    "        8.,  9., 10., 11., 12., 13., 14., 15., 15., 15., 15., 15., 15.,\n",
    "       15., 15., 15., 15.] )"
   ]
  },
  {
   "cell_type": "code",
   "execution_count": null,
   "id": "starting-national",
   "metadata": {},
   "outputs": [],
   "source": []
  },
  {
   "cell_type": "code",
   "execution_count": null,
   "id": "aggregate-domestic",
   "metadata": {},
   "outputs": [],
   "source": []
  },
  {
   "cell_type": "code",
   "execution_count": null,
   "id": "provincial-brand",
   "metadata": {},
   "outputs": [],
   "source": []
  },
  {
   "cell_type": "code",
   "execution_count": 17,
   "id": "right-performance",
   "metadata": {},
   "outputs": [
    {
     "name": "stdout",
     "output_type": "stream",
     "text": [
      "compiling system Subsystem1000 (level 1)... \n",
      "determining the computation order...\n",
      "building execution paths...\n",
      "All dependencies are resolved.\n",
      "compiling system simulation (level 0)... \n",
      "determining the computation order...\n",
      "building execution paths...\n",
      "All dependencies are resolved.\n",
      "Generated code will be written to generated/sub_if .\n"
     ]
    }
   ],
   "source": [
    "system = dy.enter_system()\n",
    "\n",
    "# the diagram\n",
    "activation_sample = dy.system_input( dy.DataTypeFloat64(1), name='activation_sample', default_value=5 ,  value_range=[0, 100], title=\"input #1\")\n",
    "\n",
    "activate_subsystem = dy.logic_and( dy.counter() >= activation_sample, (dy.counter()-15) < activation_sample )\n",
    "\n",
    "with dy.sub_if(activate_subsystem, prevent_output_computation=True ) as system:\n",
    "\n",
    "    cnt1 = dy.sum( 1 )\n",
    "    cnt2 = dy.sum( 1, no_delay=True )\n",
    "    cnt3 = dy.sum( 1, no_delay=True, initial_state=-1 )\n",
    "    cnt4 = dy.euler_integrator( dy.float64(0.1), Ts=1.0, initial_state=dy.float64(-5) )\n",
    "    \n",
    "    system.set_outputs([ cnt1, cnt2, cnt3, cnt4 ])\n",
    "\n",
    "# define output(s)\n",
    "dy.append_primay_ouput(system.outputs[0], 'cnt1')\n",
    "dy.append_primay_ouput(system.outputs[1], 'cnt2')\n",
    "dy.append_primay_ouput(system.outputs[2], 'cnt3')\n",
    "dy.append_primay_ouput(system.outputs[3], 'cnt4')\n",
    "dy.append_primay_ouput(activate_subsystem, 'activate_subsystem')\n",
    "\n",
    "# generate code for Web Assembly (wasm), requires emcc (emscripten) to build\n",
    "code_gen_results = dy.generate_code(template=dy.WasmRuntime(), folder=\"generated/sub_if\", build=False)\n",
    "\n",
    "#\n",
    "dy.clear()"
   ]
  },
  {
   "cell_type": "code",
   "execution_count": 18,
   "id": "piano-kinase",
   "metadata": {},
   "outputs": [],
   "source": [
    "compiled_system = dyexe.CompiledCode(code_gen_results)\n",
    "sim_results = dyexe.run_batch_simulation(dyexe.SystemInstance(compiled_system), input_data={}, N=30)"
   ]
  },
  {
   "cell_type": "markdown",
   "id": "exposed-stanley",
   "metadata": {},
   "source": [
    "Note: because 'prevent_output_computation=True' the output samples of the signals 'cntX' are undefined when the if-subsystem is not active (activate_subsystem=false)"
   ]
  },
  {
   "cell_type": "code",
   "execution_count": 19,
   "id": "latest-profession",
   "metadata": {},
   "outputs": [
    {
     "data": {
      "text/plain": [
       "array([ 0.,  1.,  2.,  3.,  4.,  5.,  6.,  7.,  8.,  9., 10., 11., 12.,\n",
       "       13., 14., 14., 14., 14., 14., 14., 14., 14., 14., 14., 14.])"
      ]
     },
     "execution_count": 19,
     "metadata": {},
     "output_type": "execute_result"
    }
   ],
   "source": [
    "sim_results['cnt1'][5:]"
   ]
  },
  {
   "cell_type": "code",
   "execution_count": 20,
   "id": "outstanding-profit",
   "metadata": {},
   "outputs": [
    {
     "data": {
      "text/plain": [
       "array([ 1.,  2.,  3.,  4.,  5.,  6.,  7.,  8.,  9., 10., 11., 12., 13.,\n",
       "       14., 15., 15., 15., 15., 15., 15., 15., 15., 15., 15., 15.])"
      ]
     },
     "execution_count": 20,
     "metadata": {},
     "output_type": "execute_result"
    }
   ],
   "source": [
    "sim_results['cnt2'][5:]"
   ]
  },
  {
   "cell_type": "code",
   "execution_count": 21,
   "id": "conscious-toronto",
   "metadata": {},
   "outputs": [
    {
     "data": {
      "text/plain": [
       "array([ 0.,  1.,  2.,  3.,  4.,  5.,  6.,  7.,  8.,  9., 10., 11., 12.,\n",
       "       13., 14., 14., 14., 14., 14., 14., 14., 14., 14., 14., 14.])"
      ]
     },
     "execution_count": 21,
     "metadata": {},
     "output_type": "execute_result"
    }
   ],
   "source": [
    "sim_results['cnt3'][5:]"
   ]
  },
  {
   "cell_type": "code",
   "execution_count": 22,
   "id": "aggressive-removal",
   "metadata": {},
   "outputs": [
    {
     "data": {
      "text/plain": [
       "array([-5. , -4.9, -4.8, -4.7, -4.6, -4.5, -4.4, -4.3, -4.2, -4.1, -4. ,\n",
       "       -3.9, -3.8, -3.7, -3.6, -3.6, -3.6, -3.6, -3.6, -3.6, -3.6, -3.6,\n",
       "       -3.6, -3.6, -3.6])"
      ]
     },
     "execution_count": 22,
     "metadata": {},
     "output_type": "execute_result"
    }
   ],
   "source": [
    "sim_results['cnt4'][5:]"
   ]
  },
  {
   "cell_type": "code",
   "execution_count": 23,
   "id": "musical-mouse",
   "metadata": {},
   "outputs": [
    {
     "data": {
      "text/plain": [
       "array([0., 0., 0., 0., 0., 1., 1., 1., 1., 1., 1., 1., 1., 1., 1., 1., 1.,\n",
       "       1., 1., 1., 0., 0., 0., 0., 0., 0., 0., 0., 0., 0.])"
      ]
     },
     "execution_count": 23,
     "metadata": {},
     "output_type": "execute_result"
    }
   ],
   "source": [
    "sim_results['activate_subsystem']"
   ]
  },
  {
   "cell_type": "code",
   "execution_count": null,
   "id": "prescribed-antenna",
   "metadata": {},
   "outputs": [],
   "source": []
  },
  {
   "cell_type": "code",
   "execution_count": 24,
   "id": "spanish-sample",
   "metadata": {},
   "outputs": [],
   "source": [
    "assert_equal( sim_results['cnt1'][5:] , [  0.,  1.,  2.,  3.,  4.,  5.,  6.,  7.,  8.,  9., 10., 11., 12.,\n",
    "       13., 14., 14., 14., 14., 14., 14., 14., 14., 14., 14., 14.  ] )"
   ]
  },
  {
   "cell_type": "code",
   "execution_count": 25,
   "id": "legislative-qualification",
   "metadata": {},
   "outputs": [],
   "source": [
    "assert_equal( sim_results['cnt2'][5:] , [  1.,  2.,  3.,  4.,  5.,  6.,  7.,  8.,  9., 10., 11., 12., 13.,\n",
    "       14., 15., 15., 15., 15., 15., 15., 15., 15., 15., 15., 15.  ] )"
   ]
  },
  {
   "cell_type": "code",
   "execution_count": 26,
   "id": "aging-south",
   "metadata": {},
   "outputs": [],
   "source": [
    "assert_equal( sim_results['cnt3'][5:] , [ 0.,  1.,  2.,  3.,  4.,  5.,  6.,  7.,  8.,  9., 10., 11., 12.,\n",
    "       13., 14., 14., 14., 14., 14., 14., 14., 14., 14., 14., 14.   ] )"
   ]
  },
  {
   "cell_type": "code",
   "execution_count": null,
   "id": "varied-ethiopia",
   "metadata": {},
   "outputs": [],
   "source": []
  },
  {
   "cell_type": "code",
   "execution_count": null,
   "id": "acquired-necessity",
   "metadata": {},
   "outputs": [],
   "source": []
  },
  {
   "cell_type": "code",
   "execution_count": null,
   "id": "junior-respect",
   "metadata": {},
   "outputs": [],
   "source": []
  },
  {
   "cell_type": "code",
   "execution_count": null,
   "id": "acknowledged-marketplace",
   "metadata": {},
   "outputs": [],
   "source": []
  },
  {
   "cell_type": "code",
   "execution_count": 27,
   "id": "straight-exemption",
   "metadata": {},
   "outputs": [
    {
     "name": "stdout",
     "output_type": "stream",
     "text": [
      "compiling system Subsystem1000 (level 1)... \n",
      "determining the computation order...\n",
      "building execution paths...\n",
      "All dependencies are resolved.\n",
      "compiling system simulation (level 0)... \n",
      "determining the computation order...\n",
      "building execution paths...\n",
      "All dependencies are resolved.\n",
      "Generated code will be written to generated/sub_if .\n"
     ]
    }
   ],
   "source": [
    "system = dy.enter_system()\n",
    "\n",
    "# the diagram\n",
    "activation_sample    = dy.system_input( dy.DataTypeFloat64(1), name='activation_sample', default_value=10 ,  value_range=[0, 100], title=\"input #1\")\n",
    "osc_excitement       = dy.system_input( dy.DataTypeFloat64(1), name='osc_excitement',    default_value=0.5,  value_range=[0, 4.0], title=\"input #2\")\n",
    "\n",
    "\n",
    "activate_subsystem = dy.logic_and( dy.counter() >= activation_sample, (dy.counter()-100) < activation_sample )\n",
    "\n",
    "with dy.sub_if(activate_subsystem, prevent_output_computation=False ) as system:\n",
    "\n",
    "    x = dy.signal()\n",
    "    v = dy.signal()\n",
    "\n",
    "    acc = dy.add( [ osc_excitement, v, x ], [ 1, -0.1, -0.1 ] ).set_blockname('acc').set_name('acc')\n",
    "\n",
    "    v << dy.euler_integrator( acc, Ts=0.1, initial_state=-1.0 )\n",
    "    x << dy.euler_integrator( v, Ts=0.01, initial_state=0.123 )\n",
    "    \n",
    "    v.set_name('v')\n",
    "    x.set_name('x')\n",
    "\n",
    "    system.set_outputs([ x, v ])\n",
    "\n",
    "output_x = system.outputs[0]\n",
    "output_v = system.outputs[1]\n",
    "\n",
    "\n",
    "\n",
    "# define output(s)\n",
    "dy.append_primay_ouput(output_x, 'output_x')\n",
    "dy.append_primay_ouput(output_v, 'output_v')\n",
    "dy.append_primay_ouput(activate_subsystem, 'activate_subsystem')\n",
    "\n",
    "\n",
    "\n",
    "# generate code for Web Assembly (wasm), requires emcc (emscripten) to build\n",
    "code_gen_results = dy.generate_code(template=dy.WasmRuntime(), folder=\"generated/sub_if\", build=False)\n",
    "\n",
    "#\n",
    "dy.clear()"
   ]
  },
  {
   "cell_type": "code",
   "execution_count": 28,
   "id": "acquired-weekly",
   "metadata": {},
   "outputs": [],
   "source": [
    "compiled_system = dyexe.CompiledCode(code_gen_results)\n",
    "sim_results = dyexe.run_batch_simulation(dyexe.SystemInstance(compiled_system), input_data={}, N=120)"
   ]
  },
  {
   "cell_type": "code",
   "execution_count": null,
   "id": "approximate-phrase",
   "metadata": {},
   "outputs": [],
   "source": []
  },
  {
   "cell_type": "markdown",
   "id": "terminal-healing",
   "metadata": {},
   "source": [
    "Tests"
   ]
  },
  {
   "cell_type": "code",
   "execution_count": 29,
   "id": "least-driver",
   "metadata": {},
   "outputs": [
    {
     "data": {
      "text/plain": [
       "array([0.123     , 0.123     , 0.123     , 0.123     , 0.123     ,\n",
       "       0.123     , 0.123     , 0.123     , 0.123     , 0.123     ,\n",
       "       0.123     , 0.113     , 0.1035877 , 0.09475822, 0.08650668,\n",
       "       0.07882818, 0.07171781, 0.06517067, 0.05918182, 0.05374635,\n",
       "       0.04885931, 0.04451576, 0.04071077, 0.03743938, 0.03469662,\n",
       "       0.03247756, 0.03077721, 0.02959062, 0.02891281, 0.02873883,\n",
       "       0.02906369, 0.02988243, 0.03119008, 0.03298166, 0.03525221,\n",
       "       0.03799676, 0.04121033, 0.04488797, 0.04902471, 0.05361559,\n",
       "       0.05865567, 0.06413998, 0.07006358, 0.07642153, 0.0832089 ,\n",
       "       0.09042075, 0.09805216, 0.10609822, 0.11455401, 0.12341463,\n",
       "       0.13267519, 0.1423308 , 0.15237659, 0.16280769, 0.17361924,\n",
       "       0.18480639, 0.19636431, 0.20828817, 0.22057316, 0.23321446,\n",
       "       0.2462073 , 0.25954689, 0.27322846, 0.28724726, 0.30159854,\n",
       "       0.3162776 , 0.3312797 , 0.34660015, 0.36223427, 0.37817738,\n",
       "       0.39442485, 0.41097202, 0.42781428, 0.44494701, 0.46236564,\n",
       "       0.48006559, 0.4980423 , 0.51629124, 0.53480788, 0.55358773,\n",
       "       0.5726263 , 0.59191912, 0.61146176, 0.63124977, 0.65127876,\n",
       "       0.67154434, 0.69204213, 0.71276779, 0.73371698, 0.75488541,\n",
       "       0.77626879, 0.79786284, 0.81966332, 0.84166601, 0.86386671,\n",
       "       0.88626124, 0.90884543, 0.93161515, 0.9545663 , 0.97769477,\n",
       "       1.0009965 , 1.02446744, 1.04810357, 1.0719009 , 1.09585544,\n",
       "       1.11996325, 1.14422039, 1.16862296, 1.19316709, 1.21784891,\n",
       "       1.2426646 , 1.2426646 , 1.2426646 , 1.2426646 , 1.2426646 ,\n",
       "       1.2426646 , 1.2426646 , 1.2426646 , 1.2426646 , 1.2426646 ])"
      ]
     },
     "execution_count": 29,
     "metadata": {},
     "output_type": "execute_result"
    }
   ],
   "source": [
    "sim_results['output_x']"
   ]
  },
  {
   "cell_type": "code",
   "execution_count": 30,
   "id": "executed-constitutional",
   "metadata": {},
   "outputs": [
    {
     "data": {
      "text/plain": [
       "array([0., 0., 0., 0., 0., 0., 0., 0., 0., 0., 1., 1., 1., 1., 1., 1., 1.,\n",
       "       1., 1., 1., 1., 1., 1., 1., 1., 1., 1., 1., 1., 1., 1., 1., 1., 1.,\n",
       "       1., 1., 1., 1., 1., 1., 1., 1., 1., 1., 1., 1., 1., 1., 1., 1., 1.,\n",
       "       1., 1., 1., 1., 1., 1., 1., 1., 1., 1., 1., 1., 1., 1., 1., 1., 1.,\n",
       "       1., 1., 1., 1., 1., 1., 1., 1., 1., 1., 1., 1., 1., 1., 1., 1., 1.,\n",
       "       1., 1., 1., 1., 1., 1., 1., 1., 1., 1., 1., 1., 1., 1., 1., 1., 1.,\n",
       "       1., 1., 1., 1., 1., 1., 1., 1., 0., 0., 0., 0., 0., 0., 0., 0., 0.,\n",
       "       0.])"
      ]
     },
     "execution_count": 30,
     "metadata": {},
     "output_type": "execute_result"
    }
   ],
   "source": [
    "sim_results['activate_subsystem']"
   ]
  },
  {
   "cell_type": "code",
   "execution_count": null,
   "id": "impossible-springer",
   "metadata": {},
   "outputs": [],
   "source": []
  },
  {
   "cell_type": "code",
   "execution_count": null,
   "id": "oriented-handling",
   "metadata": {},
   "outputs": [],
   "source": []
  }
 ],
 "metadata": {
  "kernelspec": {
   "display_name": "Python 3",
   "language": "python",
   "name": "python3"
  },
  "language_info": {
   "codemirror_mode": {
    "name": "ipython",
    "version": 3
   },
   "file_extension": ".py",
   "mimetype": "text/x-python",
   "name": "python",
   "nbconvert_exporter": "python",
   "pygments_lexer": "ipython3",
   "version": "3.7.9"
  }
 },
 "nbformat": 4,
 "nbformat_minor": 5
}
