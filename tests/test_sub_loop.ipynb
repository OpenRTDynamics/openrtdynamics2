{
 "cells": [
  {
   "cell_type": "code",
   "execution_count": 1,
   "metadata": {},
   "outputs": [],
   "source": [
    "import math\n",
    "import numpy as np\n",
    "import openrtdynamics2.lang as dy\n",
    "import openrtdynamics2.py_execute as dyexe\n",
    "import openrtdynamics2.targets as tg\n",
    "\n",
    "from helper_fn import * "
   ]
  },
  {
   "cell_type": "markdown",
   "metadata": {},
   "source": [
    "# Loop and yield output samples"
   ]
  },
  {
   "cell_type": "code",
   "execution_count": 2,
   "metadata": {},
   "outputs": [
    {
     "name": "stdout",
     "output_type": "stream",
     "text": [
      "compiling system Sys1000 (level 1)... \n",
      "compiling system simulation (level 0)... \n"
     ]
    }
   ],
   "source": [
    "dy.clear()\n",
    "\n",
    "system = dy.enter_system()\n",
    "\n",
    "# the diagram\n",
    "\n",
    "yield_event2 = dy.signal_periodic_impulse(period=4, phase=2)\n",
    "\n",
    "\n",
    "with dy.sub_loop( max_iterations=1000 ) as system:\n",
    "\n",
    "    cnt = dy.counter()\n",
    "    system.set_outputs([ cnt ])\n",
    "  \n",
    "\n",
    "    # execute the counter above until yield_event. Theb continue the main system for one time-instant\n",
    "    # and continue inside this subsystem again.\n",
    "    yield_event = dy.signal_periodic_impulse(period=4, phase=2)\n",
    "    system.loop_yield( yield_event )\n",
    "\n",
    "\n",
    "cnt = system.outputs[0]\n",
    "\n",
    "\n",
    "# define output(s)\n",
    "dy.append_output(cnt, 'cnt')\n",
    "dy.append_output(yield_event2, 'yield_event2')\n",
    "\n",
    "\n",
    "# generate code\n",
    "code_gen_results = dy.generate_code(template=tg.TargetCppMinimal())\n",
    "\n",
    "#\n"
   ]
  },
  {
   "cell_type": "code",
   "execution_count": 3,
   "metadata": {},
   "outputs": [],
   "source": [
    "compiled_system = dyexe.CompiledCode(code_gen_results)\n",
    "sim_results = dyexe.run_batch_simulation(dyexe.SystemInstance(compiled_system), input_data={}, N=30)"
   ]
  },
  {
   "cell_type": "code",
   "execution_count": null,
   "metadata": {},
   "outputs": [],
   "source": []
  },
  {
   "cell_type": "code",
   "execution_count": 4,
   "metadata": {},
   "outputs": [
    {
     "data": {
      "text/plain": [
       "array([  2.,   6.,  10.,  14.,  18.,  22.,  26.,  30.,  34.,  38.,  42.,\n",
       "        46.,  50.,  54.,  58.,  62.,  66.,  70.,  74.,  78.,  82.,  86.,\n",
       "        90.,  94.,  98., 102., 106., 110., 114., 118.])"
      ]
     },
     "execution_count": 4,
     "metadata": {},
     "output_type": "execute_result"
    }
   ],
   "source": [
    "sim_results['cnt']"
   ]
  },
  {
   "cell_type": "code",
   "execution_count": 5,
   "metadata": {},
   "outputs": [],
   "source": [
    "assert_equal( sim_results['cnt'] , [ 2.,   6.,  10.,  14.,  18.,  22.,  26.,  30.,  34.,  38.,  42.,\n",
    "        46.,  50.,  54.,  58.,  62.,  66.,  70.,  74.,  78.,  82.,  86.,\n",
    "        90.,  94.,  98., 102., 106., 110., 114., 118. ] )"
   ]
  },
  {
   "cell_type": "code",
   "execution_count": 6,
   "metadata": {},
   "outputs": [
    {
     "data": {
      "text/plain": [
       "array([0., 0., 1., 0., 0., 0., 1., 0., 0., 0., 1., 0., 0., 0., 1., 0., 0.,\n",
       "       0., 1., 0., 0., 0., 1., 0., 0., 0., 1., 0., 0., 0.])"
      ]
     },
     "execution_count": 6,
     "metadata": {},
     "output_type": "execute_result"
    }
   ],
   "source": [
    "sim_results['yield_event2']"
   ]
  },
  {
   "cell_type": "code",
   "execution_count": 7,
   "metadata": {},
   "outputs": [],
   "source": [
    "assert_equal( sim_results['yield_event2'] , [ 0., 0., 1., 0., 0., 0., 1., 0., 0., 0., 1., 0., 0., 0., 1., 0., 0.,\n",
    "       0., 1., 0., 0., 0., 1., 0., 0., 0., 1., 0., 0., 0. ] )"
   ]
  },
  {
   "cell_type": "markdown",
   "metadata": {},
   "source": [
    "# Loop until"
   ]
  },
  {
   "cell_type": "code",
   "execution_count": 8,
   "metadata": {},
   "outputs": [
    {
     "name": "stdout",
     "output_type": "stream",
     "text": [
      "compiling system Sys1000 (level 1)... \n",
      "compiling system simulation (level 0)... \n"
     ]
    }
   ],
   "source": [
    "dy.clear()\n",
    "\n",
    "system = dy.enter_system()\n",
    "\n",
    "# the diagram\n",
    "count_till = dy.counter()\n",
    "\n",
    "with dy.sub_loop( max_iterations=1000 ) as loop:\n",
    "\n",
    "    cnt = dy.counter()    \n",
    "    \n",
    "    # compute:\n",
    "    #\n",
    "    # accumulated_cnt = 0 + 1 + 2 + 3 + ... + count_till\n",
    "    accumulated_cnt = dy.sum(cnt, no_delay=True)\n",
    "\n",
    "    loop.set_outputs([ cnt, accumulated_cnt ])\n",
    "    loop.loop_until( dy.counter() >= count_till )\n",
    "\n",
    "\n",
    "cnt             = loop.outputs[0]\n",
    "accumulated_cnt = loop.outputs[1]\n",
    "\n",
    "# define output(s)\n",
    "dy.append_output(cnt, 'cnt')\n",
    "dy.append_output(accumulated_cnt, 'accumulated_cnt')\n",
    "\n",
    "# generate code\n",
    "code_gen_results = dy.generate_code(template=tg.TargetCppMinimal())\n",
    "\n",
    "#\n"
   ]
  },
  {
   "cell_type": "code",
   "execution_count": 9,
   "metadata": {},
   "outputs": [],
   "source": [
    "compiled_system = dyexe.CompiledCode(code_gen_results)\n",
    "sim_results = dyexe.run_batch_simulation(dyexe.SystemInstance(compiled_system), input_data={}, N=30)"
   ]
  },
  {
   "cell_type": "code",
   "execution_count": 10,
   "metadata": {},
   "outputs": [
    {
     "data": {
      "text/plain": [
       "array([ 0.,  1.,  2.,  3.,  4.,  5.,  6.,  7.,  8.,  9., 10., 11., 12.,\n",
       "       13., 14., 15., 16., 17., 18., 19., 20., 21., 22., 23., 24., 25.,\n",
       "       26., 27., 28., 29.])"
      ]
     },
     "execution_count": 10,
     "metadata": {},
     "output_type": "execute_result"
    }
   ],
   "source": [
    "sim_results['cnt']"
   ]
  },
  {
   "cell_type": "code",
   "execution_count": 11,
   "metadata": {},
   "outputs": [],
   "source": [
    "assert_equal( sim_results['cnt'] , [ 0.,  1.,  2.,  3.,  4.,  5.,  6.,  7.,  8.,  9., 10., 11., 12.,\n",
    "       13., 14., 15., 16., 17., 18., 19., 20., 21., 22., 23., 24., 25.,\n",
    "       26., 27., 28., 29 ] )"
   ]
  },
  {
   "cell_type": "code",
   "execution_count": 12,
   "metadata": {},
   "outputs": [
    {
     "data": {
      "text/plain": [
       "array([  0.,   1.,   3.,   6.,  10.,  15.,  21.,  28.,  36.,  45.,  55.,\n",
       "        66.,  78.,  91., 105., 120., 136., 153., 171., 190., 210., 231.,\n",
       "       253., 276., 300., 325., 351., 378., 406., 435.])"
      ]
     },
     "execution_count": 12,
     "metadata": {},
     "output_type": "execute_result"
    }
   ],
   "source": [
    "sim_results['accumulated_cnt']"
   ]
  },
  {
   "cell_type": "code",
   "execution_count": 13,
   "metadata": {},
   "outputs": [],
   "source": [
    "assert_equal( sim_results['accumulated_cnt'] , [ 0.,   1.,   3.,   6.,  10.,  15.,  21.,  28.,  36.,  45.,  55.,\n",
    "        66.,  78.,  91., 105., 120., 136., 153., 171., 190., 210., 231.,\n",
    "       253., 276., 300., 325., 351., 378., 406., 435. ] )"
   ]
  },
  {
   "cell_type": "code",
   "execution_count": null,
   "metadata": {},
   "outputs": [],
   "source": []
  }
 ],
 "metadata": {
  "kernelspec": {
   "display_name": "Python 3",
   "language": "python",
   "name": "python3"
  },
  "language_info": {
   "codemirror_mode": {
    "name": "ipython",
    "version": 3
   },
   "file_extension": ".py",
   "mimetype": "text/x-python",
   "name": "python",
   "nbconvert_exporter": "python",
   "pygments_lexer": "ipython3",
   "version": "3.8.5"
  }
 },
 "nbformat": 4,
 "nbformat_minor": 5
}
