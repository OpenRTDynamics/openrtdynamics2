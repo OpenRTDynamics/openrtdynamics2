{
 "cells": [
  {
   "cell_type": "code",
   "execution_count": 1,
   "metadata": {},
   "outputs": [],
   "source": [
    "import math\n",
    "import numpy as np\n",
    "import openrtdynamics2.lang as dy\n",
    "import openrtdynamics2.py_execute as dyexe\n",
    "\n",
    "from helper_fn import * "
   ]
  },
  {
   "cell_type": "code",
   "execution_count": null,
   "metadata": {},
   "outputs": [],
   "source": []
  },
  {
   "cell_type": "code",
   "execution_count": 2,
   "metadata": {},
   "outputs": [
    {
     "name": "stdout",
     "output_type": "stream",
     "text": [
      "compiling system Subsystem1000_state_A (level 1)... \n",
      "determining the computation order...\n",
      "building execution paths...\n",
      "All dependencies are resolved.\n",
      "compiling system Subsystem1001_state_B (level 1)... \n",
      "determining the computation order...\n",
      "building execution paths...\n",
      "All dependencies are resolved.\n",
      "compiling system simulation (level 0)... \n",
      "determining the computation order...\n",
      "building execution paths...\n",
      "All dependencies are resolved.\n",
      "Generated code will be written to generated/sub_statemachine .\n"
     ]
    }
   ],
   "source": [
    "system = dy.enter_system()\n",
    "\n",
    "# the diagram\n",
    "U = dy.float64(2.0)\n",
    "\n",
    "with dy.sub_statemachine( \"statemachine1\" ) as switch:\n",
    "\n",
    "    with switch.new_subsystem('state_A') as system:\n",
    "\n",
    "        x = dy.float64(0.0)\n",
    "        v = dy.float64(0.0)\n",
    "\n",
    "        counter = dy.counter()\n",
    "        timeout = ( counter > 10 )\n",
    "        next_state = dy.conditional_overwrite(signal=dy.int32(-1), condition=timeout, new_value=1 ).set_name('next_state')\n",
    "\n",
    "        system.set_switched_outputs([ x, v, counter ], next_state)\n",
    "\n",
    "\n",
    "    with switch.new_subsystem('state_B') as system:\n",
    "\n",
    "        x = dy.signal()\n",
    "        v = dy.signal()\n",
    "\n",
    "        acc = dy.add( [ U, v, x ], [ 1, -0.1, -0.1 ] )\n",
    "\n",
    "        v << dy.euler_integrator( acc, Ts=0.1, initial_state=-1.0 )\n",
    "        x << dy.euler_integrator( v,   Ts=0.1 )\n",
    "\n",
    "        counter = dy.counter()\n",
    "        next_state = dy.conditional_overwrite(signal=dy.int32(-1), condition=counter > 50, new_value=0 ).set_name('next_state')\n",
    "\n",
    "        system.set_switched_outputs([ x, v, counter ], next_state)\n",
    "\n",
    "\n",
    "output_x = switch.outputs[0].set_name(\"ox\")\n",
    "output_v = switch.outputs[1].set_name(\"ov\")\n",
    "counter = switch.outputs[2].set_name(\"counter\")\n",
    "state = switch.state.set_name('state_control')\n",
    "\n",
    "# define output(s)\n",
    "dy.append_primay_ouput(output_x, 'output_x')\n",
    "dy.append_primay_ouput(output_v, 'output_v')\n",
    "dy.append_primay_ouput(counter, 'counter')\n",
    "dy.append_primay_ouput(state, 'state')\n",
    "\n",
    "# generate code for Web Assembly (wasm), requires emcc (emscripten) to build\n",
    "code_gen_results = dy.generate_code(template=dy.TargetWasm(), folder=\"generated/sub_statemachine\", build=False)\n",
    "\n",
    "#\n",
    "dy.clear()"
   ]
  },
  {
   "cell_type": "code",
   "execution_count": 3,
   "metadata": {},
   "outputs": [],
   "source": [
    "compiled_system = dyexe.CompiledCode(code_gen_results)\n",
    "sim_results = dyexe.run_batch_simulation(dyexe.SystemInstance(compiled_system), input_data={}, N=100)"
   ]
  },
  {
   "cell_type": "code",
   "execution_count": null,
   "metadata": {},
   "outputs": [],
   "source": []
  },
  {
   "cell_type": "code",
   "execution_count": 4,
   "metadata": {},
   "outputs": [
    {
     "data": {
      "text/plain": [
       "array([ 0.        ,  0.        ,  0.        ,  0.        ,  0.        ,\n",
       "        0.        ,  0.        ,  0.        ,  0.        ,  0.        ,\n",
       "        0.        ,  0.        ,  0.        , -0.1       , -0.179     ,\n",
       "       -0.23711   , -0.2744599 , -0.29119919, -0.28749663, -0.26353989,\n",
       "       -0.21953523, -0.15570707, -0.07229766,  0.03043336,  0.15220938,\n",
       "        0.2927372 ,  0.45170753,  0.62879542,  0.82366072,  1.03594858,\n",
       "        1.26528989,  1.51130185,  1.77358839,  2.05174077,  2.34533803,\n",
       "        2.65394759,  2.97712571,  3.3144181 ,  3.66536044,  4.02947893,\n",
       "        4.40629089,  4.79530524,  5.19602316,  5.6079386 ,  6.03053886,\n",
       "        6.46330517,  6.90571329,  7.35723402,  7.81733383,  8.2854754 ,\n",
       "        8.76111823,  9.24371915,  9.73273295, 10.22761289, 10.72781129,\n",
       "       11.2327801 , 11.74197141, 12.25483803, 12.77083401, 13.28941519,\n",
       "       13.81003972, 14.3321686 , 14.85526614, 15.37880055,  0.        ,\n",
       "        0.        ,  0.        ,  0.        ,  0.        ,  0.        ,\n",
       "        0.        ,  0.        ,  0.        ,  0.        ,  0.        ,\n",
       "        0.        ,  0.        , -0.1       , -0.179     , -0.23711   ,\n",
       "       -0.2744599 , -0.29119919, -0.28749663, -0.26353989, -0.21953523,\n",
       "       -0.15570707, -0.07229766,  0.03043336,  0.15220938,  0.2927372 ,\n",
       "        0.45170753,  0.62879542,  0.82366072,  1.03594858,  1.26528989,\n",
       "        1.51130185,  1.77358839,  2.05174077,  2.34533803,  2.65394759])"
      ]
     },
     "execution_count": 4,
     "metadata": {},
     "output_type": "execute_result"
    }
   ],
   "source": [
    "# NBVAL_CHECK_OUTPUT\n",
    "sim_results['output_x']"
   ]
  },
  {
   "cell_type": "code",
   "execution_count": 5,
   "metadata": {},
   "outputs": [
    {
     "data": {
      "text/plain": [
       "array([ 0.,  1.,  2.,  3.,  4.,  5.,  6.,  7.,  8.,  9., 10., 11.,  0.,\n",
       "        1.,  2.,  3.,  4.,  5.,  6.,  7.,  8.,  9., 10., 11., 12., 13.,\n",
       "       14., 15., 16., 17., 18., 19., 20., 21., 22., 23., 24., 25., 26.,\n",
       "       27., 28., 29., 30., 31., 32., 33., 34., 35., 36., 37., 38., 39.,\n",
       "       40., 41., 42., 43., 44., 45., 46., 47., 48., 49., 50., 51.,  0.,\n",
       "        1.,  2.,  3.,  4.,  5.,  6.,  7.,  8.,  9., 10., 11.,  0.,  1.,\n",
       "        2.,  3.,  4.,  5.,  6.,  7.,  8.,  9., 10., 11., 12., 13., 14.,\n",
       "       15., 16., 17., 18., 19., 20., 21., 22., 23.])"
      ]
     },
     "execution_count": 5,
     "metadata": {},
     "output_type": "execute_result"
    }
   ],
   "source": [
    "# NBVAL_CHECK_OUTPUT\n",
    "sim_results['counter']"
   ]
  },
  {
   "cell_type": "code",
   "execution_count": 6,
   "metadata": {},
   "outputs": [],
   "source": [
    "# assert_equal( sim_results['cnt'] , [ ] )"
   ]
  },
  {
   "cell_type": "code",
   "execution_count": null,
   "metadata": {},
   "outputs": [],
   "source": []
  },
  {
   "cell_type": "code",
   "execution_count": 7,
   "metadata": {},
   "outputs": [],
   "source": [
    "import numpy as np\n",
    "import matplotlib.pyplot as plt"
   ]
  },
  {
   "cell_type": "code",
   "execution_count": 8,
   "metadata": {},
   "outputs": [
    {
     "data": {
      "image/png": "[encoded data removed]",
      "text/plain": [
       "<Figure size 432x288 with 1 Axes>"
      ]
     },
     "metadata": {
      "needs_background": "light"
     },
     "output_type": "display_data"
    }
   ],
   "source": [
    "plt.figure()\n",
    "plt.plot( sim_results['output_x'], '+'  )\n",
    "plt.plot( sim_results['state'], '+'  )\n",
    "# plt.plot( sim_results['counter'], '+'  )\n",
    "plt.show()"
   ]
  },
  {
   "cell_type": "code",
   "execution_count": null,
   "metadata": {},
   "outputs": [],
   "source": []
  },
  {
   "cell_type": "markdown",
   "metadata": {},
   "source": [
    "# Three states with timeouts"
   ]
  },
  {
   "cell_type": "code",
   "execution_count": 9,
   "metadata": {},
   "outputs": [
    {
     "name": "stdout",
     "output_type": "stream",
     "text": [
      "compiling system Subsystem1000_state_A (level 1)... \n",
      "determining the computation order...\n",
      "building execution paths...\n",
      "All dependencies are resolved.\n",
      "compiling system Subsystem1001_state_B (level 1)... \n",
      "determining the computation order...\n",
      "building execution paths...\n",
      "All dependencies are resolved.\n",
      "compiling system Subsystem1002_state_C (level 1)... \n",
      "determining the computation order...\n",
      "building execution paths...\n",
      "All dependencies are resolved.\n",
      "compiling system simulation (level 0)... \n",
      "determining the computation order...\n",
      "building execution paths...\n",
      "All dependencies are resolved.\n",
      "Generated code will be written to generated/sub_statemachine .\n"
     ]
    }
   ],
   "source": [
    "system = dy.enter_system()\n",
    "\n",
    "# the diagram\n",
    "U = dy.float64(2.0)\n",
    "\n",
    "with dy.sub_statemachine( \"statemachine1\" ) as switch:\n",
    "\n",
    "    with switch.new_subsystem('state_A') as system:\n",
    "\n",
    "        timeout = ( dy.counter() >= 2-1 )\n",
    "        next_state = dy.conditional_overwrite(signal=dy.int32(-1), condition=timeout, new_value=1 ).set_name('next_state')\n",
    "\n",
    "        system.set_switched_outputs([ dy.int32(1.0) ], next_state)\n",
    "\n",
    "        \n",
    "    with switch.new_subsystem('state_B') as system:\n",
    "\n",
    "        timeout = ( dy.counter() >= 4-1 )\n",
    "        next_state = dy.conditional_overwrite(signal=dy.int32(-1), condition=timeout, new_value=2 ).set_name('next_state')\n",
    "\n",
    "        system.set_switched_outputs([ dy.int32(2.0) ], next_state)\n",
    "\n",
    "        \n",
    "    with switch.new_subsystem('state_C') as system:\n",
    "\n",
    "        timeout = ( dy.counter() >= 6-1 )\n",
    "        next_state = dy.conditional_overwrite(signal=dy.int32(-1), condition=timeout, new_value=0 ).set_name('next_state')\n",
    "\n",
    "        system.set_switched_outputs([ dy.int32(3.0) ], next_state)\n",
    "\n",
    "\n",
    "\n",
    "y = switch.outputs[0].set_name(\"y\")\n",
    "\n",
    "# define output(s)\n",
    "dy.append_primay_ouput(y, 'y')\n",
    "\n",
    "# generate code for Web Assembly (wasm), requires emcc (emscripten) to build\n",
    "code_gen_results = dy.generate_code(template=dy.TargetWasm(), folder=\"generated/sub_statemachine\", build=False)\n",
    "\n",
    "#\n",
    "dy.clear()"
   ]
  },
  {
   "cell_type": "code",
   "execution_count": 10,
   "metadata": {},
   "outputs": [],
   "source": [
    "compiled_system = dyexe.CompiledCode(code_gen_results)\n",
    "sim_results = dyexe.run_batch_simulation(dyexe.SystemInstance(compiled_system), input_data={}, N=100)"
   ]
  },
  {
   "cell_type": "code",
   "execution_count": 11,
   "metadata": {},
   "outputs": [
    {
     "data": {
      "text/plain": [
       "array([1., 1., 2., 2., 2., 2., 3., 3., 3., 3., 3., 3., 1., 1., 2., 2., 2.,\n",
       "       2., 3., 3., 3., 3., 3., 3., 1., 1., 2., 2., 2., 2., 3., 3., 3., 3.,\n",
       "       3., 3., 1., 1., 2., 2., 2., 2., 3., 3., 3., 3., 3., 3., 1., 1., 2.,\n",
       "       2., 2., 2., 3., 3., 3., 3., 3., 3., 1., 1., 2., 2., 2., 2., 3., 3.,\n",
       "       3., 3., 3., 3., 1., 1., 2., 2., 2., 2., 3., 3., 3., 3., 3., 3., 1.,\n",
       "       1., 2., 2., 2., 2., 3., 3., 3., 3., 3., 3., 1., 1., 2., 2.])"
      ]
     },
     "execution_count": 11,
     "metadata": {},
     "output_type": "execute_result"
    }
   ],
   "source": [
    "sim_results['y']"
   ]
  },
  {
   "cell_type": "code",
   "execution_count": 12,
   "metadata": {},
   "outputs": [],
   "source": [
    "assert_equal( sim_results['y'] , [ 1., 1., 2., 2., 2., 2., 3., 3., 3., 3., 3., 3., 1., 1., 2., 2., 2.,\n",
    "       2., 3., 3., 3., 3., 3., 3., 1., 1., 2., 2., 2., 2., 3., 3., 3., 3.,\n",
    "       3., 3., 1., 1., 2., 2., 2., 2., 3., 3., 3., 3., 3., 3., 1., 1., 2.,\n",
    "       2., 2., 2., 3., 3., 3., 3., 3., 3., 1., 1., 2., 2., 2., 2., 3., 3.,\n",
    "       3., 3., 3., 3., 1., 1., 2., 2., 2., 2., 3., 3., 3., 3., 3., 3., 1.,\n",
    "       1., 2., 2., 2., 2., 3., 3., 3., 3., 3., 3., 1., 1., 2., 2. ] )"
   ]
  },
  {
   "cell_type": "code",
   "execution_count": null,
   "metadata": {},
   "outputs": [],
   "source": []
  }
 ],
 "metadata": {
  "kernelspec": {
   "display_name": "Python 3",
   "language": "python",
   "name": "python3"
  },
  "language_info": {
   "codemirror_mode": {
    "name": "ipython",
    "version": 3
   },
   "file_extension": ".py",
   "mimetype": "text/x-python",
   "name": "python",
   "nbconvert_exporter": "python",
   "pygments_lexer": "ipython3",
   "version": "3.8.5"
  }
 },
 "nbformat": 4,
 "nbformat_minor": 5
}
