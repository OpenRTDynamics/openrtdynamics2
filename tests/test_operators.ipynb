{
 "cells": [
  {
   "cell_type": "code",
   "execution_count": 1,
   "id": "romantic-latin",
   "metadata": {},
   "outputs": [],
   "source": [
    "import math\n",
    "import numpy as np\n",
    "import openrtdynamics2.lang as dy\n",
    "import openrtdynamics2.py_execute as dyexe\n",
    "\n",
    "from helper_fn import * "
   ]
  },
  {
   "cell_type": "code",
   "execution_count": 2,
   "id": "superior-policy",
   "metadata": {},
   "outputs": [
    {
     "name": "stdout",
     "output_type": "stream",
     "text": [
      "propagating datatypes...\n",
      "compiling system simulation (level 0)... \n",
      "determining the computation order...\n",
      "building execution paths...\n",
      "All dependencies are resolved.\n",
      "Generated code will be written to generated/operators .\n"
     ]
    }
   ],
   "source": [
    "system = dy.enter_system()\n",
    "\n",
    "# the diagram\n",
    "output1 = 10 + dy.counter()\n",
    "output2 = dy.counter() + 20\n",
    "\n",
    "output3 = 10 - dy.counter()\n",
    "output4 = dy.counter() - 10\n",
    "\n",
    "output5 = 2 * dy.counter()\n",
    "output6 = dy.counter() * 3\n",
    "\n",
    "output7 = 1.0 / (dy.counter() + 1)\n",
    "output8 = dy.counter() / 2.0        # NOTE: without .0 this will result in a integer division: TODO: change this in the implementation of the /-operator\n",
    "\n",
    "# <, >, ==, ...\n",
    "output9 = 2 == dy.counter()\n",
    "output10 = dy.counter() == 3\n",
    "\n",
    "output11 = 2 > dy.counter()\n",
    "output12 = dy.counter() > 5\n",
    "\n",
    "\n",
    "# define output(s)\n",
    "dy.append_primay_ouput(output1, 'output1')\n",
    "dy.append_primay_ouput(output2, 'output2')\n",
    "dy.append_primay_ouput(output3, 'output3')\n",
    "dy.append_primay_ouput(output4, 'output4')\n",
    "dy.append_primay_ouput(output5, 'output5')\n",
    "dy.append_primay_ouput(output6, 'output6')\n",
    "dy.append_primay_ouput(output7, 'output7')\n",
    "dy.append_primay_ouput(output8, 'output8')\n",
    "\n",
    "dy.append_primay_ouput(output9, 'output9')\n",
    "dy.append_primay_ouput(output10, 'output10')\n",
    "dy.append_primay_ouput(output11, 'output11')\n",
    "dy.append_primay_ouput(output12, 'output12')\n",
    "\n",
    "\n",
    "# generate code for Web Assembly (wasm), requires emcc (emscripten) to build\n",
    "code_gen_results = dy.generate_code(template=dy.WasmRuntime(), folder=\"generated/operators\", build=False)\n",
    "\n",
    "#\n",
    "dy.clear()"
   ]
  },
  {
   "cell_type": "code",
   "execution_count": 3,
   "id": "exclusive-richards",
   "metadata": {},
   "outputs": [],
   "source": [
    "compiled_system = dyexe.CompiledCode(code_gen_results)\n",
    "testsim = dyexe.SystemInstance(compiled_system)"
   ]
  },
  {
   "cell_type": "code",
   "execution_count": 4,
   "id": "pointed-monroe",
   "metadata": {},
   "outputs": [],
   "source": [
    "sim_results = dyexe.run_batch_simulation(testsim, input_data={}, N=10)"
   ]
  },
  {
   "cell_type": "markdown",
   "id": "bottom-figure",
   "metadata": {},
   "source": [
    "Tests"
   ]
  },
  {
   "cell_type": "code",
   "execution_count": 5,
   "id": "ranking-alberta",
   "metadata": {},
   "outputs": [
    {
     "data": {
      "text/plain": [
       "array([10., 11., 12., 13., 14., 15., 16., 17., 18., 19.])"
      ]
     },
     "execution_count": 5,
     "metadata": {},
     "output_type": "execute_result"
    }
   ],
   "source": [
    "sim_results['output1']"
   ]
  },
  {
   "cell_type": "code",
   "execution_count": 6,
   "id": "quantitative-termination",
   "metadata": {},
   "outputs": [],
   "source": [
    "assert_equal( sim_results['output1'] , [10., 11., 12., 13., 14., 15., 16., 17., 18., 19.] )"
   ]
  },
  {
   "cell_type": "code",
   "execution_count": 7,
   "id": "vertical-replacement",
   "metadata": {},
   "outputs": [
    {
     "data": {
      "text/plain": [
       "array([20., 21., 22., 23., 24., 25., 26., 27., 28., 29.])"
      ]
     },
     "execution_count": 7,
     "metadata": {},
     "output_type": "execute_result"
    }
   ],
   "source": [
    "sim_results['output2']"
   ]
  },
  {
   "cell_type": "code",
   "execution_count": 8,
   "id": "endless-revision",
   "metadata": {},
   "outputs": [],
   "source": [
    "assert_equal( sim_results['output2'] ,[20., 21., 22., 23., 24., 25., 26., 27., 28., 29.] )"
   ]
  },
  {
   "cell_type": "code",
   "execution_count": 9,
   "id": "enclosed-audience",
   "metadata": {},
   "outputs": [
    {
     "data": {
      "text/plain": [
       "array([10.,  9.,  8.,  7.,  6.,  5.,  4.,  3.,  2.,  1.])"
      ]
     },
     "execution_count": 9,
     "metadata": {},
     "output_type": "execute_result"
    }
   ],
   "source": [
    "sim_results['output3']"
   ]
  },
  {
   "cell_type": "code",
   "execution_count": 10,
   "id": "lasting-beads",
   "metadata": {},
   "outputs": [],
   "source": [
    "assert_equal( sim_results['output3'] , [10.,  9.,  8.,  7.,  6.,  5.,  4.,  3.,  2.,  1.] )"
   ]
  },
  {
   "cell_type": "code",
   "execution_count": 11,
   "id": "surface-wholesale",
   "metadata": {},
   "outputs": [
    {
     "data": {
      "text/plain": [
       "array([-10.,  -9.,  -8.,  -7.,  -6.,  -5.,  -4.,  -3.,  -2.,  -1.])"
      ]
     },
     "execution_count": 11,
     "metadata": {},
     "output_type": "execute_result"
    }
   ],
   "source": [
    "sim_results['output4']"
   ]
  },
  {
   "cell_type": "code",
   "execution_count": 12,
   "id": "amateur-bundle",
   "metadata": {},
   "outputs": [],
   "source": [
    "assert_equal( sim_results['output4'] , [-10.,  -9.,  -8.,  -7.,  -6.,  -5.,  -4.,  -3.,  -2.,  -1.] )"
   ]
  },
  {
   "cell_type": "code",
   "execution_count": null,
   "id": "powered-fabric",
   "metadata": {},
   "outputs": [],
   "source": []
  },
  {
   "cell_type": "code",
   "execution_count": 13,
   "id": "interested-pitch",
   "metadata": {},
   "outputs": [
    {
     "data": {
      "text/plain": [
       "array([ 0.,  2.,  4.,  6.,  8., 10., 12., 14., 16., 18.])"
      ]
     },
     "execution_count": 13,
     "metadata": {},
     "output_type": "execute_result"
    }
   ],
   "source": [
    "sim_results['output5']"
   ]
  },
  {
   "cell_type": "code",
   "execution_count": 14,
   "id": "worthy-index",
   "metadata": {},
   "outputs": [],
   "source": [
    "assert_equal( sim_results['output5'] , [ 0.,  2.,  4.,  6.,  8., 10., 12., 14., 16., 18.] )"
   ]
  },
  {
   "cell_type": "code",
   "execution_count": 15,
   "id": "completed-philip",
   "metadata": {},
   "outputs": [
    {
     "data": {
      "text/plain": [
       "array([ 0.,  3.,  6.,  9., 12., 15., 18., 21., 24., 27.])"
      ]
     },
     "execution_count": 15,
     "metadata": {},
     "output_type": "execute_result"
    }
   ],
   "source": [
    "sim_results['output6']"
   ]
  },
  {
   "cell_type": "code",
   "execution_count": 16,
   "id": "speaking-going",
   "metadata": {},
   "outputs": [],
   "source": [
    "assert_equal( sim_results['output6'] , [ 0.,  3.,  6.,  9., 12., 15., 18., 21., 24., 27.])"
   ]
  },
  {
   "cell_type": "code",
   "execution_count": 17,
   "id": "impaired-shield",
   "metadata": {},
   "outputs": [
    {
     "data": {
      "text/plain": [
       "array([1.        , 0.5       , 0.33333333, 0.25      , 0.2       ,\n",
       "       0.16666667, 0.14285714, 0.125     , 0.11111111, 0.1       ])"
      ]
     },
     "execution_count": 17,
     "metadata": {},
     "output_type": "execute_result"
    }
   ],
   "source": [
    "sim_results['output7']"
   ]
  },
  {
   "cell_type": "code",
   "execution_count": 18,
   "id": "surrounded-irish",
   "metadata": {},
   "outputs": [],
   "source": [
    "assert_approx(  sim_results['output7'], [1., 0.5 , 0.33333333, 0.25 , 0.2 ,0.16666667, 0.14285714, 0.125 , 0.11111111, 0.1 ] )"
   ]
  },
  {
   "cell_type": "code",
   "execution_count": 19,
   "id": "foster-vienna",
   "metadata": {},
   "outputs": [
    {
     "data": {
      "text/plain": [
       "array([0. , 0.5, 1. , 1.5, 2. , 2.5, 3. , 3.5, 4. , 4.5])"
      ]
     },
     "execution_count": 19,
     "metadata": {},
     "output_type": "execute_result"
    }
   ],
   "source": [
    "sim_results['output8']"
   ]
  },
  {
   "cell_type": "code",
   "execution_count": 20,
   "id": "matched-dubai",
   "metadata": {},
   "outputs": [],
   "source": [
    "assert_equal( sim_results['output8'] , [  0. , 0.5, 1. , 1.5, 2. , 2.5, 3. , 3.5, 4. , 4.5  ])"
   ]
  },
  {
   "cell_type": "code",
   "execution_count": null,
   "id": "entire-prisoner",
   "metadata": {},
   "outputs": [],
   "source": []
  },
  {
   "cell_type": "code",
   "execution_count": null,
   "id": "social-virginia",
   "metadata": {},
   "outputs": [],
   "source": []
  },
  {
   "cell_type": "code",
   "execution_count": null,
   "id": "specific-silver",
   "metadata": {},
   "outputs": [],
   "source": []
  },
  {
   "cell_type": "code",
   "execution_count": null,
   "id": "driving-newman",
   "metadata": {},
   "outputs": [],
   "source": []
  },
  {
   "cell_type": "code",
   "execution_count": 21,
   "id": "velvet-annual",
   "metadata": {},
   "outputs": [
    {
     "data": {
      "text/plain": [
       "array([0., 0., 1., 0., 0., 0., 0., 0., 0., 0.])"
      ]
     },
     "execution_count": 21,
     "metadata": {},
     "output_type": "execute_result"
    }
   ],
   "source": [
    "sim_results['output9']"
   ]
  },
  {
   "cell_type": "code",
   "execution_count": 22,
   "id": "searching-rebate",
   "metadata": {},
   "outputs": [],
   "source": [
    "assert_equal( sim_results['output9'] , [  0., 0., 1., 0., 0., 0., 0., 0., 0., 0. ])"
   ]
  },
  {
   "cell_type": "code",
   "execution_count": 23,
   "id": "adapted-monte",
   "metadata": {},
   "outputs": [
    {
     "data": {
      "text/plain": [
       "array([0., 0., 0., 1., 0., 0., 0., 0., 0., 0.])"
      ]
     },
     "execution_count": 23,
     "metadata": {},
     "output_type": "execute_result"
    }
   ],
   "source": [
    "sim_results['output10']"
   ]
  },
  {
   "cell_type": "code",
   "execution_count": 24,
   "id": "theoretical-practitioner",
   "metadata": {},
   "outputs": [],
   "source": [
    "assert_equal( sim_results['output10'] , [  [0., 0., 0., 1., 0., 0., 0., 0., 0., 0.] ])"
   ]
  },
  {
   "cell_type": "code",
   "execution_count": null,
   "id": "configured-taiwan",
   "metadata": {},
   "outputs": [],
   "source": []
  },
  {
   "cell_type": "code",
   "execution_count": 25,
   "id": "desperate-threat",
   "metadata": {},
   "outputs": [
    {
     "data": {
      "text/plain": [
       "array([1., 1., 0., 0., 0., 0., 0., 0., 0., 0.])"
      ]
     },
     "execution_count": 25,
     "metadata": {},
     "output_type": "execute_result"
    }
   ],
   "source": [
    "sim_results['output11']"
   ]
  },
  {
   "cell_type": "code",
   "execution_count": 26,
   "id": "three-diary",
   "metadata": {},
   "outputs": [],
   "source": [
    "assert_equal( sim_results['output11'] , [  1., 1., 0., 0., 0., 0., 0., 0., 0., 0. ])"
   ]
  },
  {
   "cell_type": "code",
   "execution_count": 27,
   "id": "characteristic-disclosure",
   "metadata": {},
   "outputs": [
    {
     "data": {
      "text/plain": [
       "array([0., 0., 0., 0., 0., 0., 1., 1., 1., 1.])"
      ]
     },
     "execution_count": 27,
     "metadata": {},
     "output_type": "execute_result"
    }
   ],
   "source": [
    "sim_results['output12']"
   ]
  },
  {
   "cell_type": "code",
   "execution_count": 28,
   "id": "pregnant-douglas",
   "metadata": {},
   "outputs": [],
   "source": [
    "assert_equal( sim_results['output12'] , [ 0., 0., 0., 0., 0., 0., 1., 1., 1., 1.  ])"
   ]
  },
  {
   "cell_type": "code",
   "execution_count": null,
   "id": "genuine-formation",
   "metadata": {},
   "outputs": [],
   "source": []
  },
  {
   "cell_type": "code",
   "execution_count": 29,
   "id": "every-interview",
   "metadata": {},
   "outputs": [],
   "source": [
    "# assert_equal( sim_results['output9'] , [   ])"
   ]
  },
  {
   "cell_type": "code",
   "execution_count": null,
   "id": "sufficient-people",
   "metadata": {},
   "outputs": [],
   "source": []
  },
  {
   "cell_type": "code",
   "execution_count": 30,
   "id": "processed-myanmar",
   "metadata": {},
   "outputs": [],
   "source": [
    "# assert_equal( sim_results['output9'] , [   ])"
   ]
  },
  {
   "cell_type": "code",
   "execution_count": null,
   "id": "suspected-probability",
   "metadata": {},
   "outputs": [],
   "source": []
  },
  {
   "cell_type": "code",
   "execution_count": 31,
   "id": "civilian-membrane",
   "metadata": {},
   "outputs": [],
   "source": [
    "# assert_equal( sim_results['output9'] , [   ])"
   ]
  },
  {
   "cell_type": "code",
   "execution_count": null,
   "id": "altered-while",
   "metadata": {},
   "outputs": [],
   "source": []
  },
  {
   "cell_type": "code",
   "execution_count": 32,
   "id": "sitting-shannon",
   "metadata": {},
   "outputs": [],
   "source": [
    "# assert_equal( sim_results['output9'] , [   ])"
   ]
  },
  {
   "cell_type": "code",
   "execution_count": null,
   "id": "breeding-politics",
   "metadata": {},
   "outputs": [],
   "source": []
  },
  {
   "cell_type": "code",
   "execution_count": 33,
   "id": "regulated-bundle",
   "metadata": {},
   "outputs": [],
   "source": [
    "# assert_equal( sim_results['output9'] , [   ])"
   ]
  },
  {
   "cell_type": "code",
   "execution_count": null,
   "id": "corporate-cornell",
   "metadata": {},
   "outputs": [],
   "source": []
  },
  {
   "cell_type": "code",
   "execution_count": 34,
   "id": "enhanced-saskatchewan",
   "metadata": {},
   "outputs": [],
   "source": [
    "# assert_equal( sim_results['output9'] , [   ])"
   ]
  },
  {
   "cell_type": "code",
   "execution_count": null,
   "id": "excited-stream",
   "metadata": {},
   "outputs": [],
   "source": []
  },
  {
   "cell_type": "code",
   "execution_count": 35,
   "id": "tight-paraguay",
   "metadata": {},
   "outputs": [],
   "source": [
    "# assert_equal( sim_results['output9'] , [   ])"
   ]
  },
  {
   "cell_type": "code",
   "execution_count": null,
   "id": "korean-estate",
   "metadata": {},
   "outputs": [],
   "source": []
  },
  {
   "cell_type": "code",
   "execution_count": 36,
   "id": "mature-interpretation",
   "metadata": {},
   "outputs": [],
   "source": [
    "# assert_equal( sim_results['output9'] , [   ])"
   ]
  },
  {
   "cell_type": "code",
   "execution_count": 37,
   "id": "arctic-chapter",
   "metadata": {},
   "outputs": [
    {
     "ename": "SyntaxError",
     "evalue": "invalid syntax (<ipython-input-37-9e67ee29c9fc>, line 1)",
     "output_type": "error",
     "traceback": [
      "\u001b[0;36m  File \u001b[0;32m\"<ipython-input-37-9e67ee29c9fc>\"\u001b[0;36m, line \u001b[0;32m1\u001b[0m\n\u001b[0;31m    dy.\u001b[0m\n\u001b[0m       ^\u001b[0m\n\u001b[0;31mSyntaxError\u001b[0m\u001b[0;31m:\u001b[0m invalid syntax\n"
     ]
    }
   ],
   "source": [
    "dy.initial_event()"
   ]
  }
 ],
 "metadata": {
  "kernelspec": {
   "display_name": "Python 3",
   "language": "python",
   "name": "python3"
  },
  "language_info": {
   "codemirror_mode": {
    "name": "ipython",
    "version": 3
   },
   "file_extension": ".py",
   "mimetype": "text/x-python",
   "name": "python",
   "nbconvert_exporter": "python",
   "pygments_lexer": "ipython3",
   "version": "3.7.9"
  }
 },
 "nbformat": 4,
 "nbformat_minor": 5
}
