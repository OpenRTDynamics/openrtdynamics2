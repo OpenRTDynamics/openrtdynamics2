{
 "cells": [
  {
   "cell_type": "code",
   "execution_count": 1,
   "id": "precious-tolerance",
   "metadata": {},
   "outputs": [],
   "source": [
    "import math\n",
    "import numpy as np\n",
    "import openrtdynamics2.lang as dy\n",
    "import openrtdynamics2.py_execute as dyexe\n",
    "\n",
    "from helper_fn import * "
   ]
  },
  {
   "cell_type": "code",
   "execution_count": 2,
   "id": "employed-advertising",
   "metadata": {},
   "outputs": [
    {
     "name": "stdout",
     "output_type": "stream",
     "text": [
      "compiling system simulation (level 0)... \n",
      "determining the computation order...\n",
      "building execution paths...\n",
      "All dependencies are resolved.\n",
      "Generated code will be written to generated/operators .\n"
     ]
    }
   ],
   "source": [
    "system = dy.enter_system()\n",
    "\n",
    "# the diagram\n",
    "output1 = 10 + dy.counter()\n",
    "output2 = dy.counter() + 20\n",
    "\n",
    "output3 = 10 - dy.counter()\n",
    "output4 = dy.counter() - 10\n",
    "\n",
    "output5 = 2 * dy.counter()\n",
    "output6 = dy.counter() * 3\n",
    "\n",
    "output7 = 1.0 / (dy.counter() + 1)\n",
    "output8 = dy.counter() / 2.0        # NOTE: without .0 this will result in a integer division: TODO: change this in the implementation of the /-operator\n",
    "\n",
    "# <, >, ==, ...\n",
    "output9 = 2 == dy.counter()\n",
    "output10 = dy.counter() == 3\n",
    "\n",
    "output11 = 2 > dy.counter()\n",
    "output12 = dy.counter() > 5\n",
    "\n",
    "\n",
    "# define output(s)\n",
    "dy.append_output(output1, 'output1')\n",
    "dy.append_output(output2, 'output2')\n",
    "dy.append_output(output3, 'output3')\n",
    "dy.append_output(output4, 'output4')\n",
    "dy.append_output(output5, 'output5')\n",
    "dy.append_output(output6, 'output6')\n",
    "dy.append_output(output7, 'output7')\n",
    "dy.append_output(output8, 'output8')\n",
    "\n",
    "dy.append_output(output9, 'output9')\n",
    "dy.append_output(output10, 'output10')\n",
    "dy.append_output(output11, 'output11')\n",
    "dy.append_output(output12, 'output12')\n",
    "\n",
    "\n",
    "# generate code for Web Assembly (wasm), requires emcc (emscripten) to build\n",
    "code_gen_results = dy.generate_code(template=dy.TargetWasm(), folder=\"generated/operators\", build=False)\n",
    "\n",
    "#\n",
    "dy.clear()"
   ]
  },
  {
   "cell_type": "code",
   "execution_count": 3,
   "id": "phantom-witness",
   "metadata": {},
   "outputs": [],
   "source": [
    "compiled_system = dyexe.CompiledCode(code_gen_results)\n",
    "testsim = dyexe.SystemInstance(compiled_system)"
   ]
  },
  {
   "cell_type": "code",
   "execution_count": 4,
   "id": "suitable-bunny",
   "metadata": {},
   "outputs": [],
   "source": [
    "sim_results = dyexe.run_batch_simulation(testsim, input_data={}, N=10)"
   ]
  },
  {
   "cell_type": "markdown",
   "id": "developing-punch",
   "metadata": {},
   "source": [
    "Tests"
   ]
  },
  {
   "cell_type": "code",
   "execution_count": 5,
   "id": "forced-antigua",
   "metadata": {},
   "outputs": [
    {
     "data": {
      "text/plain": [
       "array([10., 11., 12., 13., 14., 15., 16., 17., 18., 19.])"
      ]
     },
     "execution_count": 5,
     "metadata": {},
     "output_type": "execute_result"
    }
   ],
   "source": [
    "sim_results['output1']"
   ]
  },
  {
   "cell_type": "code",
   "execution_count": 6,
   "id": "developmental-cleaning",
   "metadata": {},
   "outputs": [],
   "source": [
    "assert_equal( sim_results['output1'] , [10., 11., 12., 13., 14., 15., 16., 17., 18., 19.] )"
   ]
  },
  {
   "cell_type": "code",
   "execution_count": 7,
   "id": "protecting-logan",
   "metadata": {},
   "outputs": [
    {
     "data": {
      "text/plain": [
       "array([20., 21., 22., 23., 24., 25., 26., 27., 28., 29.])"
      ]
     },
     "execution_count": 7,
     "metadata": {},
     "output_type": "execute_result"
    }
   ],
   "source": [
    "sim_results['output2']"
   ]
  },
  {
   "cell_type": "code",
   "execution_count": 8,
   "id": "realistic-shopper",
   "metadata": {},
   "outputs": [],
   "source": [
    "assert_equal( sim_results['output2'] ,[20., 21., 22., 23., 24., 25., 26., 27., 28., 29.] )"
   ]
  },
  {
   "cell_type": "code",
   "execution_count": 9,
   "id": "intimate-central",
   "metadata": {},
   "outputs": [
    {
     "data": {
      "text/plain": [
       "array([10.,  9.,  8.,  7.,  6.,  5.,  4.,  3.,  2.,  1.])"
      ]
     },
     "execution_count": 9,
     "metadata": {},
     "output_type": "execute_result"
    }
   ],
   "source": [
    "sim_results['output3']"
   ]
  },
  {
   "cell_type": "code",
   "execution_count": 10,
   "id": "individual-student",
   "metadata": {},
   "outputs": [],
   "source": [
    "assert_equal( sim_results['output3'] , [10.,  9.,  8.,  7.,  6.,  5.,  4.,  3.,  2.,  1.] )"
   ]
  },
  {
   "cell_type": "code",
   "execution_count": 11,
   "id": "transsexual-scheme",
   "metadata": {},
   "outputs": [
    {
     "data": {
      "text/plain": [
       "array([-10.,  -9.,  -8.,  -7.,  -6.,  -5.,  -4.,  -3.,  -2.,  -1.])"
      ]
     },
     "execution_count": 11,
     "metadata": {},
     "output_type": "execute_result"
    }
   ],
   "source": [
    "sim_results['output4']"
   ]
  },
  {
   "cell_type": "code",
   "execution_count": 12,
   "id": "spiritual-blake",
   "metadata": {},
   "outputs": [],
   "source": [
    "assert_equal( sim_results['output4'] , [-10.,  -9.,  -8.,  -7.,  -6.,  -5.,  -4.,  -3.,  -2.,  -1.] )"
   ]
  },
  {
   "cell_type": "code",
   "execution_count": null,
   "id": "opening-large",
   "metadata": {},
   "outputs": [],
   "source": []
  },
  {
   "cell_type": "code",
   "execution_count": 13,
   "id": "instant-pledge",
   "metadata": {},
   "outputs": [
    {
     "data": {
      "text/plain": [
       "array([ 0.,  2.,  4.,  6.,  8., 10., 12., 14., 16., 18.])"
      ]
     },
     "execution_count": 13,
     "metadata": {},
     "output_type": "execute_result"
    }
   ],
   "source": [
    "sim_results['output5']"
   ]
  },
  {
   "cell_type": "code",
   "execution_count": 14,
   "id": "comic-external",
   "metadata": {},
   "outputs": [],
   "source": [
    "assert_equal( sim_results['output5'] , [ 0.,  2.,  4.,  6.,  8., 10., 12., 14., 16., 18.] )"
   ]
  },
  {
   "cell_type": "code",
   "execution_count": 15,
   "id": "ordered-spirituality",
   "metadata": {},
   "outputs": [
    {
     "data": {
      "text/plain": [
       "array([ 0.,  3.,  6.,  9., 12., 15., 18., 21., 24., 27.])"
      ]
     },
     "execution_count": 15,
     "metadata": {},
     "output_type": "execute_result"
    }
   ],
   "source": [
    "sim_results['output6']"
   ]
  },
  {
   "cell_type": "code",
   "execution_count": 16,
   "id": "elegant-right",
   "metadata": {},
   "outputs": [],
   "source": [
    "assert_equal( sim_results['output6'] , [ 0.,  3.,  6.,  9., 12., 15., 18., 21., 24., 27.])"
   ]
  },
  {
   "cell_type": "code",
   "execution_count": 17,
   "id": "nuclear-conversion",
   "metadata": {},
   "outputs": [
    {
     "data": {
      "text/plain": [
       "array([1.        , 0.5       , 0.33333333, 0.25      , 0.2       ,\n",
       "       0.16666667, 0.14285714, 0.125     , 0.11111111, 0.1       ])"
      ]
     },
     "execution_count": 17,
     "metadata": {},
     "output_type": "execute_result"
    }
   ],
   "source": [
    "sim_results['output7']"
   ]
  },
  {
   "cell_type": "code",
   "execution_count": 18,
   "id": "explicit-criterion",
   "metadata": {},
   "outputs": [],
   "source": [
    "assert_approx(  sim_results['output7'], [1., 0.5 , 0.33333333, 0.25 , 0.2 ,0.16666667, 0.14285714, 0.125 , 0.11111111, 0.1 ] )"
   ]
  },
  {
   "cell_type": "code",
   "execution_count": 19,
   "id": "apart-neutral",
   "metadata": {},
   "outputs": [
    {
     "data": {
      "text/plain": [
       "array([0. , 0.5, 1. , 1.5, 2. , 2.5, 3. , 3.5, 4. , 4.5])"
      ]
     },
     "execution_count": 19,
     "metadata": {},
     "output_type": "execute_result"
    }
   ],
   "source": [
    "sim_results['output8']"
   ]
  },
  {
   "cell_type": "code",
   "execution_count": 20,
   "id": "dressed-accent",
   "metadata": {},
   "outputs": [],
   "source": [
    "assert_equal( sim_results['output8'] , [  0. , 0.5, 1. , 1.5, 2. , 2.5, 3. , 3.5, 4. , 4.5  ])"
   ]
  },
  {
   "cell_type": "code",
   "execution_count": null,
   "id": "unsigned-healing",
   "metadata": {},
   "outputs": [],
   "source": []
  },
  {
   "cell_type": "code",
   "execution_count": null,
   "id": "tropical-vocabulary",
   "metadata": {},
   "outputs": [],
   "source": []
  },
  {
   "cell_type": "code",
   "execution_count": null,
   "id": "light-stockholm",
   "metadata": {},
   "outputs": [],
   "source": []
  },
  {
   "cell_type": "code",
   "execution_count": null,
   "id": "responsible-spice",
   "metadata": {},
   "outputs": [],
   "source": []
  },
  {
   "cell_type": "code",
   "execution_count": 21,
   "id": "arctic-controversy",
   "metadata": {},
   "outputs": [
    {
     "data": {
      "text/plain": [
       "array([0., 0., 1., 0., 0., 0., 0., 0., 0., 0.])"
      ]
     },
     "execution_count": 21,
     "metadata": {},
     "output_type": "execute_result"
    }
   ],
   "source": [
    "sim_results['output9']"
   ]
  },
  {
   "cell_type": "code",
   "execution_count": 22,
   "id": "motivated-aircraft",
   "metadata": {},
   "outputs": [],
   "source": [
    "assert_equal( sim_results['output9'] , [  0., 0., 1., 0., 0., 0., 0., 0., 0., 0. ])"
   ]
  },
  {
   "cell_type": "code",
   "execution_count": 23,
   "id": "possible-frederick",
   "metadata": {},
   "outputs": [
    {
     "data": {
      "text/plain": [
       "array([0., 0., 0., 1., 0., 0., 0., 0., 0., 0.])"
      ]
     },
     "execution_count": 23,
     "metadata": {},
     "output_type": "execute_result"
    }
   ],
   "source": [
    "sim_results['output10']"
   ]
  },
  {
   "cell_type": "code",
   "execution_count": 24,
   "id": "acquired-freeze",
   "metadata": {},
   "outputs": [],
   "source": [
    "assert_equal( sim_results['output10'] , [  [0., 0., 0., 1., 0., 0., 0., 0., 0., 0.] ])"
   ]
  },
  {
   "cell_type": "code",
   "execution_count": null,
   "id": "excellent-monster",
   "metadata": {},
   "outputs": [],
   "source": []
  },
  {
   "cell_type": "code",
   "execution_count": 25,
   "id": "amazing-given",
   "metadata": {},
   "outputs": [
    {
     "data": {
      "text/plain": [
       "array([1., 1., 0., 0., 0., 0., 0., 0., 0., 0.])"
      ]
     },
     "execution_count": 25,
     "metadata": {},
     "output_type": "execute_result"
    }
   ],
   "source": [
    "sim_results['output11']"
   ]
  },
  {
   "cell_type": "code",
   "execution_count": 26,
   "id": "tender-frequency",
   "metadata": {},
   "outputs": [],
   "source": [
    "assert_equal( sim_results['output11'] , [  1., 1., 0., 0., 0., 0., 0., 0., 0., 0. ])"
   ]
  },
  {
   "cell_type": "code",
   "execution_count": 27,
   "id": "stock-domestic",
   "metadata": {},
   "outputs": [
    {
     "data": {
      "text/plain": [
       "array([0., 0., 0., 0., 0., 0., 1., 1., 1., 1.])"
      ]
     },
     "execution_count": 27,
     "metadata": {},
     "output_type": "execute_result"
    }
   ],
   "source": [
    "sim_results['output12']"
   ]
  },
  {
   "cell_type": "code",
   "execution_count": 28,
   "id": "trained-peeing",
   "metadata": {},
   "outputs": [],
   "source": [
    "assert_equal( sim_results['output12'] , [ 0., 0., 0., 0., 0., 0., 1., 1., 1., 1.  ])"
   ]
  },
  {
   "cell_type": "code",
   "execution_count": null,
   "id": "intended-invention",
   "metadata": {},
   "outputs": [],
   "source": []
  },
  {
   "cell_type": "code",
   "execution_count": 29,
   "id": "electoral-jurisdiction",
   "metadata": {},
   "outputs": [],
   "source": [
    "# assert_equal( sim_results['output9'] , [   ])"
   ]
  },
  {
   "cell_type": "code",
   "execution_count": null,
   "id": "advisory-pittsburgh",
   "metadata": {},
   "outputs": [],
   "source": []
  },
  {
   "cell_type": "code",
   "execution_count": 30,
   "id": "academic-dress",
   "metadata": {},
   "outputs": [],
   "source": [
    "# assert_equal( sim_results['output9'] , [   ])"
   ]
  },
  {
   "cell_type": "code",
   "execution_count": null,
   "id": "alone-backing",
   "metadata": {},
   "outputs": [],
   "source": []
  },
  {
   "cell_type": "code",
   "execution_count": 31,
   "id": "wanted-letter",
   "metadata": {},
   "outputs": [],
   "source": [
    "# assert_equal( sim_results['output9'] , [   ])"
   ]
  },
  {
   "cell_type": "code",
   "execution_count": null,
   "id": "narrow-moses",
   "metadata": {},
   "outputs": [],
   "source": []
  },
  {
   "cell_type": "code",
   "execution_count": 32,
   "id": "working-reflection",
   "metadata": {},
   "outputs": [],
   "source": [
    "# assert_equal( sim_results['output9'] , [   ])"
   ]
  },
  {
   "cell_type": "code",
   "execution_count": null,
   "id": "native-qualification",
   "metadata": {},
   "outputs": [],
   "source": []
  },
  {
   "cell_type": "code",
   "execution_count": 33,
   "id": "printable-sleep",
   "metadata": {},
   "outputs": [],
   "source": [
    "# assert_equal( sim_results['output9'] , [   ])"
   ]
  },
  {
   "cell_type": "code",
   "execution_count": null,
   "id": "medium-guitar",
   "metadata": {},
   "outputs": [],
   "source": []
  },
  {
   "cell_type": "code",
   "execution_count": 34,
   "id": "funky-valley",
   "metadata": {},
   "outputs": [],
   "source": [
    "# assert_equal( sim_results['output9'] , [   ])"
   ]
  },
  {
   "cell_type": "code",
   "execution_count": null,
   "id": "naval-drive",
   "metadata": {},
   "outputs": [],
   "source": []
  },
  {
   "cell_type": "code",
   "execution_count": 35,
   "id": "homeless-longitude",
   "metadata": {},
   "outputs": [],
   "source": [
    "# assert_equal( sim_results['output9'] , [   ])"
   ]
  },
  {
   "cell_type": "code",
   "execution_count": null,
   "id": "productive-agriculture",
   "metadata": {},
   "outputs": [],
   "source": []
  },
  {
   "cell_type": "code",
   "execution_count": 36,
   "id": "entertaining-private",
   "metadata": {},
   "outputs": [],
   "source": [
    "# assert_equal( sim_results['output9'] , [   ])"
   ]
  },
  {
   "cell_type": "code",
   "execution_count": null,
   "id": "involved-recording",
   "metadata": {},
   "outputs": [],
   "source": []
  },
  {
   "cell_type": "code",
   "execution_count": null,
   "id": "tough-great",
   "metadata": {},
   "outputs": [],
   "source": []
  }
 ],
 "metadata": {
  "kernelspec": {
   "display_name": "Python 3",
   "language": "python",
   "name": "python3"
  },
  "language_info": {
   "codemirror_mode": {
    "name": "ipython",
    "version": 3
   },
   "file_extension": ".py",
   "mimetype": "text/x-python",
   "name": "python",
   "nbconvert_exporter": "python",
   "pygments_lexer": "ipython3",
   "version": "3.7.9"
  }
 },
 "nbformat": 4,
 "nbformat_minor": 5
}
