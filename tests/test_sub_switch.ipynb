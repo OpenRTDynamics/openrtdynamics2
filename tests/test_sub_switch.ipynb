{
 "cells": [
  {
   "cell_type": "code",
   "execution_count": 1,
   "metadata": {},
   "outputs": [],
   "source": [
    "import math\n",
    "import numpy as np\n",
    "import openrtdynamics2.lang as dy\n",
    "import openrtdynamics2.py_execute as dyexe\n",
    "\n",
    "from helper_fn import * "
   ]
  },
  {
   "cell_type": "code",
   "execution_count": null,
   "metadata": {},
   "outputs": [],
   "source": []
  },
  {
   "cell_type": "code",
   "execution_count": 2,
   "metadata": {},
   "outputs": [
    {
     "name": "stdout",
     "output_type": "stream",
     "text": [
      "compiling system Subsystem1000_default_system (level 1)... \n",
      "determining the computation order...\n",
      "building execution paths...\n",
      "All dependencies are resolved.\n",
      "compiling system Subsystem1001_running_system (level 1)... \n",
      "determining the computation order...\n",
      "building execution paths...\n",
      "All dependencies are resolved.\n",
      "compiling system simulation (level 0)... \n",
      "determining the computation order...\n",
      "building execution paths...\n",
      "All dependencies are resolved.\n",
      "Generated code will be written to generated/sub_switch .\n"
     ]
    }
   ],
   "source": [
    "dy.clear()\n",
    "\n",
    "system = dy.enter_system()\n",
    "\n",
    "# the diagram\n",
    "U = dy.float64(2.0)\n",
    "active_system, _, _ = dy.signal_square(30, 0)  # changes between 0 and 1\n",
    "\n",
    "with dy.sub_switch( \"switch1\", active_system ) as switch:\n",
    "\n",
    "    with switch.new_subsystem('default_system') as system:\n",
    "        # this is defined to be the default subsystem\n",
    "        # the datatypes of the outputs defined here a\n",
    "        # used for the main outputs of the function \n",
    "        # dy.sub_switch\n",
    "\n",
    "        # inputs are [] (no inputs)\n",
    "\n",
    "        x = dy.float64(0.0)\n",
    "        v = dy.float64(0.0)\n",
    "\n",
    "        system.set_switched_outputs([ x, v ])\n",
    "\n",
    "\n",
    "    with switch.new_subsystem('running_system') as system:\n",
    "        # inputs are [U]\n",
    "\n",
    "        x = dy.signal()\n",
    "        v = dy.signal()\n",
    "\n",
    "        acc = dy.add( [ U, v, x ], [ 1, -0.1, -0.1 ] )\n",
    "\n",
    "        v << dy.euler_integrator( acc, Ts=0.1, initial_state=-1.0 )\n",
    "        x << dy.euler_integrator( v,   Ts=0.1 )\n",
    "\n",
    "        system.set_switched_outputs([ x, v ])\n",
    "\n",
    "\n",
    "        #  python3 -m http.server\n",
    "\n",
    "output_x = switch.outputs[0].set_name(\"ox\")\n",
    "output_v = switch.outputs[1].set_name(\"ov\")\n",
    "\n",
    "\n",
    "# define output(s)\n",
    "dy.append_primay_ouput(output_x, 'output_x')\n",
    "dy.append_primay_ouput(output_v, 'output_v')\n",
    "dy.append_primay_ouput(active_system, 'active_system')\n",
    "\n",
    "# generate code for Web Assembly (wasm), requires emcc (emscripten) to build\n",
    "code_gen_results = dy.generate_code(template=dy.TargetWasm(), folder=\"generated/sub_switch\", build=False)\n",
    "\n",
    "#\n"
   ]
  },
  {
   "cell_type": "code",
   "execution_count": 3,
   "metadata": {},
   "outputs": [],
   "source": [
    "compiled_system = dyexe.CompiledCode(code_gen_results)\n",
    "sim_results = dyexe.run_batch_simulation(dyexe.SystemInstance(compiled_system), input_data={}, N=200)"
   ]
  },
  {
   "cell_type": "code",
   "execution_count": null,
   "metadata": {},
   "outputs": [],
   "source": []
  },
  {
   "cell_type": "code",
   "execution_count": 4,
   "metadata": {},
   "outputs": [
    {
     "data": {
      "text/plain": [
       "array([ 0.00000000e+00, -1.00000000e-01, -1.79000000e-01, -2.37110000e-01,\n",
       "       -2.74459900e-01, -2.91199191e-01, -2.87496629e-01, -2.63539894e-01,\n",
       "       -2.19535229e-01, -1.55707071e-01, -7.22976597e-02,  3.04333648e-02,\n",
       "        1.52209377e-01,  2.92737195e-01,  4.51707526e-01,  6.28795416e-01,\n",
       "        8.23660720e-01,  1.03594858e+00,  1.26528989e+00,  1.51130185e+00,\n",
       "        1.77358839e+00,  2.05174077e+00,  2.34533803e+00,  2.65394759e+00,\n",
       "        2.97712571e+00,  3.31441810e+00,  3.66536044e+00,  4.02947893e+00,\n",
       "        4.40629089e+00,  4.79530524e+00,  0.00000000e+00,  0.00000000e+00,\n",
       "        0.00000000e+00,  0.00000000e+00,  0.00000000e+00,  0.00000000e+00,\n",
       "        0.00000000e+00,  0.00000000e+00,  0.00000000e+00,  0.00000000e+00,\n",
       "        0.00000000e+00,  0.00000000e+00,  0.00000000e+00,  0.00000000e+00,\n",
       "        0.00000000e+00,  0.00000000e+00,  0.00000000e+00,  0.00000000e+00,\n",
       "        0.00000000e+00,  0.00000000e+00,  0.00000000e+00,  0.00000000e+00,\n",
       "        0.00000000e+00,  0.00000000e+00,  0.00000000e+00,  0.00000000e+00,\n",
       "        0.00000000e+00,  0.00000000e+00,  0.00000000e+00,  0.00000000e+00,\n",
       "        5.19602316e+00,  5.60793860e+00,  6.03053886e+00,  6.46330517e+00,\n",
       "        6.90571329e+00,  7.35723402e+00,  7.81733383e+00,  8.28547540e+00,\n",
       "        8.76111823e+00,  9.24371915e+00,  9.73273295e+00,  1.02276129e+01,\n",
       "        1.07278113e+01,  1.12327801e+01,  1.17419714e+01,  1.22548380e+01,\n",
       "        1.27708340e+01,  1.32894152e+01,  1.38100397e+01,  1.43321686e+01,\n",
       "        1.48552661e+01,  1.53788005e+01,  1.59022443e+01,  1.64250749e+01,\n",
       "        1.69467749e+01,  1.74668328e+01,  1.79847434e+01,  1.85000080e+01,\n",
       "        1.90121353e+01,  1.95206412e+01,  0.00000000e+00,  0.00000000e+00,\n",
       "        0.00000000e+00,  0.00000000e+00,  0.00000000e+00,  0.00000000e+00,\n",
       "        0.00000000e+00,  0.00000000e+00,  0.00000000e+00,  0.00000000e+00,\n",
       "        0.00000000e+00,  0.00000000e+00,  0.00000000e+00,  0.00000000e+00,\n",
       "        0.00000000e+00,  0.00000000e+00,  0.00000000e+00,  0.00000000e+00,\n",
       "        0.00000000e+00,  0.00000000e+00,  0.00000000e+00,  0.00000000e+00,\n",
       "        0.00000000e+00,  0.00000000e+00,  0.00000000e+00,  0.00000000e+00,\n",
       "        0.00000000e+00,  0.00000000e+00,  0.00000000e+00,  0.00000000e+00,\n",
       "        2.00250500e+01,  2.05248941e+01,  2.10197146e+01,  2.15090621e+01,\n",
       "        2.19924963e+01,  2.24695872e+01,  2.29399146e+01,  2.34030692e+01,\n",
       "        2.38586524e+01,  2.43062766e+01,  2.47455659e+01,  2.51761561e+01,\n",
       "        2.55976948e+01,  2.60098419e+01,  2.64122699e+01,  2.68046638e+01,\n",
       "        2.71867215e+01,  2.75581539e+01,  2.79186852e+01,  2.82680532e+01,\n",
       "        2.86060087e+01,  2.89323166e+01,  2.92467555e+01,  2.95491176e+01,\n",
       "        2.98392094e+01,  3.01168511e+01,  3.03818772e+01,  3.06341362e+01,\n",
       "        3.08734907e+01,  3.10998175e+01,  0.00000000e+00,  0.00000000e+00,\n",
       "        0.00000000e+00,  0.00000000e+00,  0.00000000e+00,  0.00000000e+00,\n",
       "        0.00000000e+00,  0.00000000e+00,  0.00000000e+00,  0.00000000e+00,\n",
       "        0.00000000e+00,  0.00000000e+00,  0.00000000e+00,  0.00000000e+00,\n",
       "        0.00000000e+00,  0.00000000e+00,  0.00000000e+00,  0.00000000e+00,\n",
       "        0.00000000e+00,  0.00000000e+00,  0.00000000e+00,  0.00000000e+00,\n",
       "        0.00000000e+00,  0.00000000e+00,  0.00000000e+00,  0.00000000e+00,\n",
       "        0.00000000e+00,  0.00000000e+00,  0.00000000e+00,  0.00000000e+00,\n",
       "        3.13130076e+01,  3.15129660e+01,  3.16996118e+01,  3.18728781e+01,\n",
       "        3.20327122e+01,  3.21790750e+01,  3.23119415e+01,  3.24313003e+01,\n",
       "        3.25371536e+01,  3.26295170e+01,  3.27084196e+01,  3.27739037e+01,\n",
       "        3.28260245e+01,  3.28648502e+01,  3.28904616e+01,  3.29029521e+01,\n",
       "        3.29024272e+01,  3.28890046e+01,  3.28628138e+01,  3.28239959e+01])"
      ]
     },
     "execution_count": 4,
     "metadata": {},
     "output_type": "execute_result"
    }
   ],
   "source": [
    "# NBVAL_CHECK_OUTPUT\n",
    "sim_results['output_x']"
   ]
  },
  {
   "cell_type": "code",
   "execution_count": null,
   "metadata": {},
   "outputs": [],
   "source": []
  },
  {
   "cell_type": "code",
   "execution_count": 5,
   "metadata": {},
   "outputs": [],
   "source": [
    "# assert_equal( sim_results['output_x'] , [ ] )"
   ]
  },
  {
   "cell_type": "code",
   "execution_count": null,
   "metadata": {},
   "outputs": [],
   "source": []
  },
  {
   "cell_type": "code",
   "execution_count": 6,
   "metadata": {},
   "outputs": [],
   "source": [
    "import numpy as np\n",
    "import matplotlib.pyplot as plt"
   ]
  },
  {
   "cell_type": "code",
   "execution_count": 7,
   "metadata": {},
   "outputs": [
    {
     "data": {
      "image/png": "[encoded data removed]",
      "text/plain": [
       "<Figure size 432x288 with 1 Axes>"
      ]
     },
     "metadata": {
      "needs_background": "light"
     },
     "output_type": "display_data"
    }
   ],
   "source": [
    "plt.figure()\n",
    "plt.plot( sim_results['output_x'], '+'  )\n",
    "plt.plot( sim_results['active_system'], '+'  )\n",
    "plt.show()"
   ]
  },
  {
   "cell_type": "code",
   "execution_count": null,
   "metadata": {},
   "outputs": [],
   "source": []
  }
 ],
 "metadata": {
  "kernelspec": {
   "display_name": "Python 3",
   "language": "python",
   "name": "python3"
  },
  "language_info": {
   "codemirror_mode": {
    "name": "ipython",
    "version": 3
   },
   "file_extension": ".py",
   "mimetype": "text/x-python",
   "name": "python",
   "nbconvert_exporter": "python",
   "pygments_lexer": "ipython3",
   "version": "3.8.5"
  }
 },
 "nbformat": 4,
 "nbformat_minor": 5
}
