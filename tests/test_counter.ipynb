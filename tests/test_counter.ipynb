{
 "cells": [
  {
   "cell_type": "code",
   "execution_count": 1,
   "id": "sized-segment",
   "metadata": {},
   "outputs": [],
   "source": [
    "import math\n",
    "import numpy as np\n",
    "import openrtdynamics2.lang as dy\n",
    "import openrtdynamics2.py_execute as dyexe"
   ]
  },
  {
   "cell_type": "code",
   "execution_count": 2,
   "id": "ready-lincoln",
   "metadata": {},
   "outputs": [
    {
     "name": "stdout",
     "output_type": "stream",
     "text": [
      "compiling system simulation (level 0)... \n",
      "determining the computation order...\n",
      "building execution paths...\n",
      "All dependencies are resolved.\n",
      "Generated code will be written to generated/counter .\n"
     ]
    }
   ],
   "source": [
    "system = dy.enter_system()\n",
    "\n",
    "# define system inputs\n",
    "input1               = dy.system_input( dy.DataTypeFloat64(1), name='input1', default_value=2.0,  value_range=[0, 25], title=\"input #1\")\n",
    "\n",
    "# the diagram\n",
    "output = input1 * dy.counter()\n",
    "output2 = dy.counter()\n",
    "\n",
    "# define output(s)\n",
    "dy.append_primay_ouput(output, 'output')\n",
    "dy.append_primay_ouput(output2, 'output2')\n",
    "\n",
    "# generate code for Web Assembly (wasm), requires emcc (emscripten) to build\n",
    "code_gen_results = dy.generate_code(template=dy.WasmRuntime(), folder=\"generated/counter\", build=False)\n",
    "\n",
    "#\n",
    "dy.clear()\n"
   ]
  },
  {
   "cell_type": "code",
   "execution_count": 3,
   "id": "neither-might",
   "metadata": {},
   "outputs": [],
   "source": [
    "compiled_system = dyexe.CompiledCode(code_gen_results)\n",
    "testsim = dyexe.SystemInstance(compiled_system)"
   ]
  },
  {
   "cell_type": "code",
   "execution_count": null,
   "id": "synthetic-dimension",
   "metadata": {},
   "outputs": [],
   "source": []
  },
  {
   "cell_type": "code",
   "execution_count": 4,
   "id": "elder-banks",
   "metadata": {},
   "outputs": [
    {
     "data": {
      "text/plain": [
       "array([ 0.,  2.,  4.,  6.,  8., 10., 12., 14., 16., 18.])"
      ]
     },
     "execution_count": 4,
     "metadata": {},
     "output_type": "execute_result"
    }
   ],
   "source": [
    "sim_results = dyexe.run_batch_simulation(testsim, input_data={}, N=10,  output_keys=['output', 'output2'] )\n",
    "sim_results['output']"
   ]
  },
  {
   "cell_type": "code",
   "execution_count": 5,
   "id": "recorded-network",
   "metadata": {},
   "outputs": [
    {
     "data": {
      "text/plain": [
       "array([0., 1., 2., 3., 4., 5., 6., 7., 8., 9.])"
      ]
     },
     "execution_count": 5,
     "metadata": {},
     "output_type": "execute_result"
    }
   ],
   "source": [
    "sim_results['output2']"
   ]
  },
  {
   "cell_type": "code",
   "execution_count": 6,
   "id": "failing-lindsay",
   "metadata": {},
   "outputs": [],
   "source": [
    "assert(sim_results['output'][0] == 0)\n",
    "assert(sim_results['output'][1] == 2)\n",
    "assert(sim_results['output'][2] == 4)\n",
    "assert(sim_results['output'][3] == 6)"
   ]
  },
  {
   "cell_type": "code",
   "execution_count": 7,
   "id": "divided-correction",
   "metadata": {},
   "outputs": [],
   "source": [
    "assert(sim_results['output2'][0] == 0)\n",
    "assert(sim_results['output2'][1] == 1)\n",
    "assert(sim_results['output2'][2] == 2)\n",
    "assert(sim_results['output2'][3] == 3)"
   ]
  },
  {
   "cell_type": "code",
   "execution_count": null,
   "id": "advance-vinyl",
   "metadata": {},
   "outputs": [],
   "source": []
  }
 ],
 "metadata": {
  "kernelspec": {
   "display_name": "Python 3",
   "language": "python",
   "name": "python3"
  },
  "language_info": {
   "codemirror_mode": {
    "name": "ipython",
    "version": 3
   },
   "file_extension": ".py",
   "mimetype": "text/x-python",
   "name": "python",
   "nbconvert_exporter": "python",
   "pygments_lexer": "ipython3",
   "version": "3.7.9"
  }
 },
 "nbformat": 4,
 "nbformat_minor": 5
}
