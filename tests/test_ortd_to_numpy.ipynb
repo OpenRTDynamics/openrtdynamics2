{
 "cells": [
  {
   "cell_type": "code",
   "execution_count": 1,
   "metadata": {},
   "outputs": [],
   "source": [
    "import math\n",
    "\n",
    "import numpy as np\n",
    "import matplotlib.pyplot as plt\n",
    "\n",
    "import openrtdynamics2.lang as dy\n",
    "from openrtdynamics2.ORTDtoNumpy import ORTDtoNumpy\n",
    "\n",
    "from helper_fn import * "
   ]
  },
  {
   "cell_type": "code",
   "execution_count": 2,
   "metadata": {},
   "outputs": [],
   "source": [
    "\n",
    "@ORTDtoNumpy()\n",
    "def test_fn1( a, b ):\n",
    "    \n",
    "    c = a + b\n",
    "    d = a * b\n",
    "    \n",
    "    return c, d\n",
    "\n",
    "\n",
    "@ORTDtoNumpy()\n",
    "def test_fn2( a, b ):\n",
    "    \n",
    "    c = a + b\n",
    "    \n",
    "    return c\n",
    "\n",
    "\n",
    "@ORTDtoNumpy()\n",
    "def test_fn3( u ):\n",
    "    \n",
    "    y = dy.dtf_lowpass_1_order(u, 0.6)\n",
    "    \n",
    "    return y\n",
    "\n",
    "@ORTDtoNumpy(p=2)\n",
    "def test_fn4( a, b, c : dy.SignalUserTemplate, d : dy.SignalUserTemplate, p ):\n",
    "    \n",
    "    r = a + 10*b + 100*c + 1000*d + 10000*p\n",
    "    \n",
    "    return r\n"
   ]
  },
  {
   "cell_type": "code",
   "execution_count": 3,
   "metadata": {},
   "outputs": [
    {
     "name": "stdout",
     "output_type": "stream",
     "text": [
      "compiling system simulation (level 0)... \n",
      "determine_execution_order on level 0\n",
      "--- signals needed for output_1 --\n",
      "-> S input_1\n",
      ".    --> crosses system bounds\n",
      ".  added input dependency input_1 (double [1])\n",
      "-> S input_2\n",
      ".    --> crosses system bounds\n",
      ".  added input dependency input_2 (double [1])\n",
      "added output_1 (double [1]) type proposal: (double [1])\n",
      "determine_execution_order on level 1\n",
      "--- signals needed for output_2 --\n",
      "-> S input_1\n",
      ".  has already been calculated in a previous traversion\n",
      ".  as it is also a simulation input, adding it to the list of depended inputs\n",
      "-> S input_2\n",
      ".  has already been calculated in a previous traversion\n",
      ".  as it is also a simulation input, adding it to the list of depended inputs\n",
      "added output_2 (double [1]) type proposal: (double [1])\n",
      "[4.] [3.75]\n"
     ]
    }
   ],
   "source": [
    "c, d = test_fn1(1.5, 2.5)\n",
    "assert c == 4\n",
    "assert d == 3.75\n",
    "print(c, d)"
   ]
  },
  {
   "cell_type": "code",
   "execution_count": 4,
   "metadata": {},
   "outputs": [
    {
     "name": "stdout",
     "output_type": "stream",
     "text": [
      "compiling system simulation (level 0)... \n",
      "determine_execution_order on level 0\n",
      "--- signals needed for output_1 --\n",
      "-> S input_1\n",
      ".    --> crosses system bounds\n",
      ".  added input dependency input_1 (double [1])\n",
      "-> S input_2\n",
      ".    --> crosses system bounds\n",
      ".  added input dependency input_2 (double [1])\n",
      "added output_1 (double [1]) type proposal: (double [1])\n"
     ]
    },
    {
     "data": {
      "text/plain": [
       "array([4.])"
      ]
     },
     "execution_count": 4,
     "metadata": {},
     "output_type": "execute_result"
    }
   ],
   "source": [
    "c = test_fn2(1.5, 2.5)\n",
    "assert c == 4\n",
    "\n",
    "c = test_fn2(1.5, 2.5)\n",
    "assert c == 4\n",
    "\n",
    "c = test_fn2(1.5, 2.5)\n",
    "assert c == 4\n",
    "\n",
    "c"
   ]
  },
  {
   "cell_type": "code",
   "execution_count": 5,
   "metadata": {},
   "outputs": [
    {
     "name": "stdout",
     "output_type": "stream",
     "text": [
      "compiling system simulation (level 0)... \n",
      "determine_execution_order on level 0\n",
      "--- signals needed for output_1 --\n",
      "-> S s5\n",
      ".  --- signals needed for s5 --\n",
      ".  -> S s2\n",
      ".  .  --- signals needed for s2 --\n",
      ".  .    (no signals needed) \n",
      ".  .  added s2 (double [1])\n",
      ".  -> S s8\n",
      ".  .  --- signals needed *indirectly* to compute s8 (through state update) --\n",
      ".  .  -> S output_1\n",
      ".  .  --- signals needed for s8 --\n",
      ".  .    (no signals needed) \n",
      ".  .  added s8 (double [1]) type proposal: (double [1])\n",
      ".  added s5 (double [1]) type proposal: (double [1])\n",
      "-> S s6\n",
      ".  --- signals needed for s6 --\n",
      ".  -> S s4\n",
      ".  .  --- signals needed for s4 --\n",
      ".  .  -> S s3\n",
      ".  .  .  --- signals needed for s3 --\n",
      ".  .  .    (no signals needed) \n",
      ".  .  .  added s3 (double [1])\n",
      ".  .  -> S s2\n",
      ".  .  .  has already been calculated in this traversion\n",
      ".  .  added s4 (double [1]) type proposal: (double [1])\n",
      ".  -> S input_1\n",
      ".  .    --> crosses system bounds\n",
      ".  .  added input dependency input_1 (double [1])\n",
      ".  added s6 (double [1]) type proposal: (double [1])\n",
      "added output_1 (double [1]) type proposal: (double [1])\n",
      "determine_execution_order on level 1\n",
      "has already been calculated in a previous traversion\n"
     ]
    },
    {
     "data": {
      "text/plain": [
       "array([0.4       , 0.64      , 0.784     , 0.8704    , 0.92224   ,\n",
       "       0.953344  , 0.9720064 , 0.98320384, 0.9899223 , 0.99395338])"
      ]
     },
     "execution_count": 5,
     "metadata": {},
     "output_type": "execute_result"
    }
   ],
   "source": [
    "y = test_fn3( np.ones(10) )\n",
    "y"
   ]
  },
  {
   "cell_type": "code",
   "execution_count": 6,
   "metadata": {},
   "outputs": [],
   "source": [
    "assert_approx( y , [0.4       , 0.64      , 0.784     , 0.8704    , 0.92224   ,\n",
    "       0.953344  , 0.9720064 , 0.98320384, 0.9899223 , 0.99395338] )"
   ]
  },
  {
   "cell_type": "code",
   "execution_count": 7,
   "metadata": {},
   "outputs": [
    {
     "name": "stdout",
     "output_type": "stream",
     "text": [
      "compiling system simulation (level 0)... \n",
      "determine_execution_order on level 0\n",
      "--- signals needed for output_1 --\n",
      "-> S s13\n",
      ".  --- signals needed for s13 --\n",
      ".  -> S s10\n",
      ".  .  --- signals needed for s10 --\n",
      ".  .  -> S s7\n",
      ".  .  .  --- signals needed for s7 --\n",
      ".  .  .  -> S input_1\n",
      ".  .  .  .    --> crosses system bounds\n",
      ".  .  .  .  added input dependency input_1 (double [1])\n",
      ".  .  .  -> S s6\n",
      ".  .  .  .  --- signals needed for s6 --\n",
      ".  .  .  .  -> S input_2\n",
      ".  .  .  .  .    --> crosses system bounds\n",
      ".  .  .  .  .  added input dependency input_2 (double [1])\n",
      ".  .  .  .  -> S s5\n",
      ".  .  .  .  .  --- signals needed for s5 --\n",
      ".  .  .  .  .    (no signals needed) \n",
      ".  .  .  .  .  added s5 (int32_t [1])\n",
      ".  .  .  .  added s6 (double [1]) type proposal: (double [1])\n",
      ".  .  .  added s7 (double [1]) type proposal: (double [1])\n",
      ".  .  -> S s9\n",
      ".  .  .  --- signals needed for s9 --\n",
      ".  .  .  -> S c\n",
      ".  .  .  .    --> crosses system bounds\n",
      ".  .  .  .  added input dependency c (double [1])\n",
      ".  .  .  -> S s8\n",
      ".  .  .  .  --- signals needed for s8 --\n",
      ".  .  .  .    (no signals needed) \n",
      ".  .  .  .  added s8 (int32_t [1])\n",
      ".  .  .  added s9 (double [1]) type proposal: (double [1])\n",
      ".  .  added s10 (double [1]) type proposal: (double [1])\n",
      ".  -> S s12\n",
      ".  .  --- signals needed for s12 --\n",
      ".  .  -> S d\n",
      ".  .  .    --> crosses system bounds\n",
      ".  .  .  added input dependency d (double [1])\n",
      ".  .  -> S s11\n",
      ".  .  .  --- signals needed for s11 --\n",
      ".  .  .    (no signals needed) \n",
      ".  .  .  added s11 (int32_t [1])\n",
      ".  .  added s12 (double [1]) type proposal: (double [1])\n",
      ".  added s13 (double [1]) type proposal: (double [1])\n",
      "-> S s14\n",
      ".  --- signals needed for s14 --\n",
      ".    (no signals needed) \n",
      ".  added s14 (int32_t [1])\n",
      "added output_1 (double [1]) type proposal: (double [1])\n"
     ]
    },
    {
     "data": {
      "text/plain": [
       "array([24321.])"
      ]
     },
     "execution_count": 7,
     "metadata": {},
     "output_type": "execute_result"
    }
   ],
   "source": [
    "y = test_fn4(1, 2, c=3, d=4)\n",
    "assert y == 24321\n",
    "y"
   ]
  },
  {
   "cell_type": "code",
   "execution_count": 8,
   "metadata": {},
   "outputs": [
    {
     "data": {
      "text/plain": [
       "array([24321.])"
      ]
     },
     "execution_count": 8,
     "metadata": {},
     "output_type": "execute_result"
    }
   ],
   "source": [
    "test_fn4(1, 2, d=4, c=3)\n",
    "assert y == 24321\n",
    "y"
   ]
  },
  {
   "cell_type": "code",
   "execution_count": 9,
   "metadata": {},
   "outputs": [],
   "source": [
    "passed = False\n",
    "try:\n",
    "    # this shall throw because one position based argument is missing\n",
    "    test_fn4(1, d=4, c=3)\n",
    "except:\n",
    "    passed = True\n",
    "    \n",
    "assert passed"
   ]
  },
  {
   "cell_type": "code",
   "execution_count": null,
   "metadata": {},
   "outputs": [],
   "source": []
  }
 ],
 "metadata": {
  "kernelspec": {
   "display_name": "Python 3",
   "language": "python",
   "name": "python3"
  },
  "language_info": {
   "codemirror_mode": {
    "name": "ipython",
    "version": 3
   },
   "file_extension": ".py",
   "mimetype": "text/x-python",
   "name": "python",
   "nbconvert_exporter": "python",
   "pygments_lexer": "ipython3",
   "version": "3.8.5"
  }
 },
 "nbformat": 4,
 "nbformat_minor": 4
}
