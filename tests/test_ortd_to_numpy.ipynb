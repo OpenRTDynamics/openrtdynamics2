{
 "cells": [
  {
   "cell_type": "code",
   "execution_count": 1,
   "metadata": {},
   "outputs": [],
   "source": [
    "import math\n",
    "\n",
    "import numpy as np\n",
    "import matplotlib.pyplot as plt\n",
    "\n",
    "import openrtdynamics2.lang as dy\n",
    "from openrtdynamics2.ORTDtoNumpy import ORTDtoNumpy\n",
    "\n",
    "from helper_fn import * "
   ]
  },
  {
   "cell_type": "code",
   "execution_count": 2,
   "metadata": {},
   "outputs": [],
   "source": [
    "\n",
    "@ORTDtoNumpy\n",
    "def test_fn1( a, b ):\n",
    "    \n",
    "    c = a + b\n",
    "    d = a * b\n",
    "    \n",
    "    return c, d\n",
    "\n",
    "\n",
    "@ORTDtoNumpy\n",
    "def test_fn2( a, b ):\n",
    "    \n",
    "    c = a + b\n",
    "    \n",
    "    return c\n",
    "\n",
    "\n",
    "@ORTDtoNumpy\n",
    "def test_fn3( u ):\n",
    "    \n",
    "    y = dy.dtf_lowpass_1_order(u, 0.6)\n",
    "    \n",
    "    return y\n",
    "\n"
   ]
  },
  {
   "cell_type": "code",
   "execution_count": 3,
   "metadata": {},
   "outputs": [
    {
     "name": "stdout",
     "output_type": "stream",
     "text": [
      "compiling system simulation (level 0)... \n",
      "determining the computation order...\n",
      "building execution paths...\n",
      "All dependencies are resolved.\n",
      "[4.] [3.75]\n"
     ]
    }
   ],
   "source": [
    "c, d = test_fn1(1.5, 2.5)\n",
    "assert c == 4\n",
    "assert d == 3.75\n",
    "print(c, d)"
   ]
  },
  {
   "cell_type": "code",
   "execution_count": 4,
   "metadata": {},
   "outputs": [
    {
     "name": "stdout",
     "output_type": "stream",
     "text": [
      "compiling system simulation (level 0)... \n",
      "determining the computation order...\n",
      "building execution paths...\n",
      "All dependencies are resolved.\n"
     ]
    },
    {
     "data": {
      "text/plain": [
       "array([4.])"
      ]
     },
     "execution_count": 4,
     "metadata": {},
     "output_type": "execute_result"
    }
   ],
   "source": [
    "c = test_fn2(1.5, 2.5)\n",
    "assert c == 4\n",
    "\n",
    "c = test_fn2(1.5, 2.5)\n",
    "assert c == 4\n",
    "\n",
    "c = test_fn2(1.5, 2.5)\n",
    "assert c == 4\n",
    "\n",
    "c"
   ]
  },
  {
   "cell_type": "code",
   "execution_count": 5,
   "metadata": {},
   "outputs": [
    {
     "name": "stdout",
     "output_type": "stream",
     "text": [
      "compiling system simulation (level 0)... \n",
      "determining the computation order...\n",
      "building execution paths...\n",
      "All dependencies are resolved.\n"
     ]
    },
    {
     "data": {
      "text/plain": [
       "array([0.4       , 0.64      , 0.784     , 0.8704    , 0.92224   ,\n",
       "       0.953344  , 0.9720064 , 0.98320384, 0.9899223 , 0.99395338])"
      ]
     },
     "execution_count": 5,
     "metadata": {},
     "output_type": "execute_result"
    }
   ],
   "source": [
    "y = test_fn3( np.ones(10) )\n",
    "y"
   ]
  },
  {
   "cell_type": "code",
   "execution_count": 6,
   "metadata": {},
   "outputs": [],
   "source": [
    "assert_approx( y , [0.4       , 0.64      , 0.784     , 0.8704    , 0.92224   ,\n",
    "       0.953344  , 0.9720064 , 0.98320384, 0.9899223 , 0.99395338] )"
   ]
  },
  {
   "cell_type": "code",
   "execution_count": null,
   "metadata": {},
   "outputs": [],
   "source": []
  }
 ],
 "metadata": {
  "kernelspec": {
   "display_name": "Python 3",
   "language": "python",
   "name": "python3"
  },
  "language_info": {
   "codemirror_mode": {
    "name": "ipython",
    "version": 3
   },
   "file_extension": ".py",
   "mimetype": "text/x-python",
   "name": "python",
   "nbconvert_exporter": "python",
   "pygments_lexer": "ipython3",
   "version": "3.8.5"
  }
 },
 "nbformat": 4,
 "nbformat_minor": 4
}
