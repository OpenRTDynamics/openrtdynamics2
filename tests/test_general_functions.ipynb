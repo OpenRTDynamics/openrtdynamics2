{
 "cells": [
  {
   "cell_type": "code",
   "execution_count": 1,
   "metadata": {},
   "outputs": [],
   "source": [
    "import math\n",
    "\n",
    "import numpy as np\n",
    "import matplotlib.pyplot as plt\n",
    "\n",
    "import openrtdynamics2.lang as dy\n",
    "from openrtdynamics2.ORTDtoNumpy import ORTDtoNumpy\n",
    "\n",
    "from helper_fn import * "
   ]
  },
  {
   "cell_type": "code",
   "execution_count": 2,
   "metadata": {},
   "outputs": [],
   "source": [
    "\n",
    "@ORTDtoNumpy()\n",
    "def test_ifelse( thr ):\n",
    "    \n",
    "    sig = dy.signal_sinus(100)\n",
    "    \n",
    "    y = dy.if_else(\n",
    "        condition=sig  >= thr,\n",
    "        if_true        =  sig,\n",
    "        if_false       = dy.float64(0.0)\n",
    "    )\n",
    "    \n",
    "    return y\n"
   ]
  },
  {
   "cell_type": "code",
   "execution_count": 3,
   "metadata": {},
   "outputs": [
    {
     "name": "stdout",
     "output_type": "stream",
     "text": [
      "compiling system simulation (level 0)... \n"
     ]
    },
    {
     "data": {
      "image/png": "[encoded data removed]",
      "text/plain": [
       "<Figure size 432x288 with 1 Axes>"
      ]
     },
     "metadata": {
      "needs_background": "light"
     },
     "output_type": "display_data"
    }
   ],
   "source": [
    "y = test_ifelse( 0.4 * np.ones(200) )\n",
    "\n",
    "plt.figure()\n",
    "plt.plot( y, '+'  )\n",
    "plt.show()"
   ]
  },
  {
   "cell_type": "code",
   "execution_count": 4,
   "metadata": {},
   "outputs": [
    {
     "data": {
      "text/plain": [
       "array([0.        , 0.        , 0.        , 0.        , 0.        ,\n",
       "       0.        , 0.        , 0.42577929, 0.48175367, 0.53582679,\n",
       "       0.58778525, 0.63742399, 0.68454711, 0.72896863, 0.77051324,\n",
       "       0.80901699, 0.84432793, 0.87630668, 0.90482705, 0.92977649,\n",
       "       0.95105652, 0.96858316, 0.98228725, 0.9921147 , 0.99802673,\n",
       "       1.        , 0.99802673, 0.9921147 , 0.98228725, 0.96858316,\n",
       "       0.95105652, 0.92977649, 0.90482705, 0.87630668, 0.84432793,\n",
       "       0.80901699, 0.77051324, 0.72896863, 0.68454711, 0.63742399,\n",
       "       0.58778525, 0.53582679, 0.48175367, 0.42577929, 0.        ,\n",
       "       0.        , 0.        , 0.        , 0.        , 0.        ,\n",
       "       0.        , 0.        , 0.        , 0.        , 0.        ,\n",
       "       0.        , 0.        , 0.        , 0.        , 0.        ,\n",
       "       0.        , 0.        , 0.        , 0.        , 0.        ,\n",
       "       0.        , 0.        , 0.        , 0.        , 0.        ,\n",
       "       0.        , 0.        , 0.        , 0.        , 0.        ,\n",
       "       0.        , 0.        , 0.        , 0.        , 0.        ,\n",
       "       0.        , 0.        , 0.        , 0.        , 0.        ,\n",
       "       0.        , 0.        , 0.        , 0.        , 0.        ,\n",
       "       0.        , 0.        , 0.        , 0.        , 0.        ,\n",
       "       0.        , 0.        , 0.        , 0.        , 0.        ,\n",
       "       0.        , 0.        , 0.        , 0.        , 0.        ,\n",
       "       0.        , 0.        , 0.42577929, 0.48175367, 0.53582679,\n",
       "       0.58778525, 0.63742399, 0.68454711, 0.72896863, 0.77051324,\n",
       "       0.80901699, 0.84432793, 0.87630668, 0.90482705, 0.92977649,\n",
       "       0.95105652, 0.96858316, 0.98228725, 0.9921147 , 0.99802673,\n",
       "       1.        , 0.99802673, 0.9921147 , 0.98228725, 0.96858316,\n",
       "       0.95105652, 0.92977649, 0.90482705, 0.87630668, 0.84432793,\n",
       "       0.80901699, 0.77051324, 0.72896863, 0.68454711, 0.63742399,\n",
       "       0.58778525, 0.53582679, 0.48175367, 0.42577929, 0.        ,\n",
       "       0.        , 0.        , 0.        , 0.        , 0.        ,\n",
       "       0.        , 0.        , 0.        , 0.        , 0.        ,\n",
       "       0.        , 0.        , 0.        , 0.        , 0.        ,\n",
       "       0.        , 0.        , 0.        , 0.        , 0.        ,\n",
       "       0.        , 0.        , 0.        , 0.        , 0.        ,\n",
       "       0.        , 0.        , 0.        , 0.        , 0.        ,\n",
       "       0.        , 0.        , 0.        , 0.        , 0.        ,\n",
       "       0.        , 0.        , 0.        , 0.        , 0.        ,\n",
       "       0.        , 0.        , 0.        , 0.        , 0.        ,\n",
       "       0.        , 0.        , 0.        , 0.        , 0.        ,\n",
       "       0.        , 0.        , 0.        , 0.        , 0.        ])"
      ]
     },
     "execution_count": 4,
     "metadata": {},
     "output_type": "execute_result"
    }
   ],
   "source": [
    "# NBVAL_CHECK_OUTPUT\n",
    "y"
   ]
  },
  {
   "cell_type": "code",
   "execution_count": null,
   "metadata": {},
   "outputs": [],
   "source": []
  }
 ],
 "metadata": {
  "kernelspec": {
   "display_name": "Python 3",
   "language": "python",
   "name": "python3"
  },
  "language_info": {
   "codemirror_mode": {
    "name": "ipython",
    "version": 3
   },
   "file_extension": ".py",
   "mimetype": "text/x-python",
   "name": "python",
   "nbconvert_exporter": "python",
   "pygments_lexer": "ipython3",
   "version": "3.8.5"
  }
 },
 "nbformat": 4,
 "nbformat_minor": 4
}
